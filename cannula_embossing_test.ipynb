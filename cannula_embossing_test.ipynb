{
 "cells": [
  {
   "cell_type": "code",
   "execution_count": 68,
   "metadata": {},
   "outputs": [],
   "source": [
    "from fastai.vision.all import *\n",
    "from fastai.vision.widgets import *"
   ]
  },
  {
   "cell_type": "markdown",
   "metadata": {},
   "source": [
    "# The Amazing Bear Classifier!"
   ]
  },
  {
   "cell_type": "markdown",
   "metadata": {},
   "source": [
    "You need to know whether you're being chased by a dangerous grizzly, or a sweet teddy bear, and you need an answer *fast*? Then you've come to the right place. Take a pic of the potentially vicious killer, and click 'upload' to classify it. (Important: this only handles grizzly bears, black bears, and teddy bears. It will **not** give a sensible answer for polar bears, a bear market, a bear of a man, or hot dogs.\n",
    "\n",
    "----"
   ]
  },
  {
   "cell_type": "code",
   "execution_count": 69,
   "metadata": {},
   "outputs": [],
   "source": [
    "path = Path()\n",
    "learn_inf = load_learner(path/'export.pkl', cpu=True)\n",
    "btn_upload = widgets.FileUpload()\n",
    "out_pl = widgets.Output()\n",
    "lbl_pred = widgets.Label()"
   ]
  },
  {
   "cell_type": "code",
   "execution_count": 70,
   "metadata": {},
   "outputs": [],
   "source": [
    "def on_data_change(change):\n",
    "    lbl_pred.value = ''\n",
    "    img = PILImage.create(btn_upload.data[-1])\n",
    "    out_pl.clear_output()\n",
    "    with out_pl: display(img.to_thumb(128,128))\n",
    "    pred,pred_idx,probs = learn_inf.predict(img)\n",
    "    lbl_pred.value = f'Prediction: {pred}; Probability: {probs[pred_idx]:.04f}'"
   ]
  },
  {
   "cell_type": "code",
   "execution_count": 71,
   "metadata": {},
   "outputs": [],
   "source": [
    "btn_upload.observe(on_data_change, names=['data'])"
   ]
  },
  {
   "cell_type": "code",
   "execution_count": 72,
   "metadata": {},
   "outputs": [
    {
     "data": {
      "application/vnd.jupyter.widget-view+json": {
       "model_id": "615a372b9ca24e819deaf6ddfb390d79",
       "version_major": 2,
       "version_minor": 0
      },
      "text/plain": [
       "VBox(children=(Label(value='Select your bear!'), FileUpload(value={}, description='Upload'), Output(), Label(v…"
      ]
     },
     "metadata": {},
     "output_type": "display_data"
    }
   ],
   "source": [
    "display(VBox([widgets.Label('Select your cannula!'), btn_upload, out_pl, lbl_pred]))"
   ]
  },
  {
   "cell_type": "code",
   "execution_count": null,
   "metadata": {},
   "outputs": [],
   "source": []
  }
 ],
 "metadata": {
  "jupytext": {
   "split_at_heading": true
  },
  "kernelspec": {
   "display_name": "Python 3",
   "language": "python",
   "name": "python3"
  },
  "language_info": {
   "codemirror_mode": {
    "name": "ipython",
    "version": 3
   },
   "file_extension": ".py",
   "mimetype": "text/x-python",
   "name": "python",
   "nbconvert_exporter": "python",
   "pygments_lexer": "ipython3",
   "version": "3.6.9"
  },
  "toc": {
   "base_numbering": 1,
   "nav_menu": {},
   "number_sections": false,
   "sideBar": true,
   "skip_h1_title": true,
   "title_cell": "Table of Contents",
   "title_sidebar": "Contents",
   "toc_cell": false,
   "toc_position": {},
   "toc_section_display": true,
   "toc_window_display": false
  },
  "widgets": {
   "application/vnd.jupyter.widget-state+json": {
    "state": {
     "02e2e155165042f0a34880b56287a16b": {
      "model_module": "@jupyter-widgets/controls",
      "model_module_version": "1.5.0",
      "model_name": "FileUploadModel",
      "state": {
       "description_tooltip": null,
       "layout": "IPY_MODEL_bdb33056d1ef4a8cbb6d1929cca7246d",
       "style": "IPY_MODEL_246ba1fe28e04c95befde2bf268b2b6a"
      }
     },
     "0471951913884f858e1b26847b5c9456": {
      "model_module": "@jupyter-widgets/base",
      "model_module_version": "1.2.0",
      "model_name": "LayoutModel",
      "state": {}
     },
     "06674a4bde204460930a69223f370f96": {
      "model_module": "@jupyter-widgets/controls",
      "model_module_version": "1.5.0",
      "model_name": "VBoxModel",
      "state": {
       "children": [
        "IPY_MODEL_16a70f81a8a9445e8722cc8dbda2c676",
        "IPY_MODEL_2a8d996efb554d9492e3868e1e338cd1",
        "IPY_MODEL_28c6282932964c9597fa819030c0bcb8",
        "IPY_MODEL_467cf917275c4f0f8f12091edde6ac60",
        "IPY_MODEL_8a3f02426e4a4fc5a29c83272868a574"
       ],
       "layout": "IPY_MODEL_effe33d413e84548bad30d36cda39d0c"
      }
     },
     "07658c72595841eeadc15a944dda3e06": {
      "model_module": "@jupyter-widgets/controls",
      "model_module_version": "1.5.0",
      "model_name": "FileUploadModel",
      "state": {
       "description_tooltip": null,
       "layout": "IPY_MODEL_ad469cfeba904aa8843ac1d7df221484",
       "style": "IPY_MODEL_b50b3de3830d443b9b50ab444e743722"
      }
     },
     "08f234bf40524a98a403666c5f790492": {
      "model_module": "@jupyter-widgets/base",
      "model_module_version": "1.2.0",
      "model_name": "LayoutModel",
      "state": {}
     },
     "0c99050925154f159be2ce999dbf51f2": {
      "model_module": "@jupyter-widgets/controls",
      "model_module_version": "1.5.0",
      "model_name": "ButtonStyleModel",
      "state": {}
     },
     "0cafd5a2a08146c8847ad4cdd6127f06": {
      "model_module": "@jupyter-widgets/base",
      "model_module_version": "1.2.0",
      "model_name": "LayoutModel",
      "state": {}
     },
     "0ce16db503434cdca87a2e73543d8fac": {
      "model_module": "@jupyter-widgets/controls",
      "model_module_version": "1.5.0",
      "model_name": "DescriptionStyleModel",
      "state": {
       "description_width": ""
      }
     },
     "0f34df0093ac4a60b3de3920b101fa3f": {
      "model_module": "@jupyter-widgets/base",
      "model_module_version": "1.2.0",
      "model_name": "LayoutModel",
      "state": {}
     },
     "12b90a7677c84173bc436ddd8a600fe9": {
      "model_module": "@jupyter-widgets/controls",
      "model_module_version": "1.5.0",
      "model_name": "ButtonStyleModel",
      "state": {}
     },
     "13d570ea8e3f40f7b941bef651c2255e": {
      "model_module": "@jupyter-widgets/controls",
      "model_module_version": "1.5.0",
      "model_name": "ButtonStyleModel",
      "state": {}
     },
     "16a70f81a8a9445e8722cc8dbda2c676": {
      "model_module": "@jupyter-widgets/controls",
      "model_module_version": "1.5.0",
      "model_name": "LabelModel",
      "state": {
       "layout": "IPY_MODEL_24405cbac84f45508dbb6530f892c128",
       "style": "IPY_MODEL_2aed59023a14417da90ba81313f9966f",
       "value": "Select your cannula!"
      }
     },
     "1d696c296b784c4286bd0e6b2f2df598": {
      "model_module": "@jupyter-widgets/base",
      "model_module_version": "1.2.0",
      "model_name": "LayoutModel",
      "state": {}
     },
     "24405cbac84f45508dbb6530f892c128": {
      "model_module": "@jupyter-widgets/base",
      "model_module_version": "1.2.0",
      "model_name": "LayoutModel",
      "state": {}
     },
     "246ba1fe28e04c95befde2bf268b2b6a": {
      "model_module": "@jupyter-widgets/controls",
      "model_module_version": "1.5.0",
      "model_name": "ButtonStyleModel",
      "state": {}
     },
     "27e750ce21cb46339f09d3ca2d4c51e8": {
      "model_module": "@jupyter-widgets/output",
      "model_module_version": "1.0.0",
      "model_name": "OutputModel",
      "state": {
       "layout": "IPY_MODEL_0471951913884f858e1b26847b5c9456",
       "outputs": [
        {
         "data": {
          "image/png": "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\n",
          "text/plain": "<PIL.Image.Image image mode=RGB size=128x96 at 0x7FF8D18CD320>"
         },
         "metadata": {},
         "output_type": "display_data"
        }
       ]
      }
     },
     "28c6282932964c9597fa819030c0bcb8": {
      "model_module": "@jupyter-widgets/controls",
      "model_module_version": "1.5.0",
      "model_name": "ButtonModel",
      "state": {
       "description": "Classify",
       "layout": "IPY_MODEL_a1813c5c69434138bb1b8c583c4d58e0",
       "style": "IPY_MODEL_7b3e8d1311b845e8b2ce3a44aeaac4c6"
      }
     },
     "2a8d996efb554d9492e3868e1e338cd1": {
      "model_module": "@jupyter-widgets/controls",
      "model_module_version": "1.5.0",
      "model_name": "FileUploadModel",
      "state": {
       "description_tooltip": null,
       "layout": "IPY_MODEL_900ea1e5582b4843a873704fb73b3fae",
       "style": "IPY_MODEL_929eb954e52541e3871a18f4cb616a31"
      }
     },
     "2aed59023a14417da90ba81313f9966f": {
      "model_module": "@jupyter-widgets/controls",
      "model_module_version": "1.5.0",
      "model_name": "DescriptionStyleModel",
      "state": {
       "description_width": ""
      }
     },
     "3216f69c63e94717b64ac0ca10ece754": {
      "model_module": "@jupyter-widgets/base",
      "model_module_version": "1.2.0",
      "model_name": "LayoutModel",
      "state": {}
     },
     "467cf917275c4f0f8f12091edde6ac60": {
      "model_module": "@jupyter-widgets/output",
      "model_module_version": "1.0.0",
      "model_name": "OutputModel",
      "state": {
       "layout": "IPY_MODEL_5bd1a3878e16496585bee2fb4b381ce7",
       "outputs": [
        {
         "data": {
          "image/png": "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\n",
          "text/plain": "<PIL.Image.Image image mode=RGB size=128x96 at 0x7FF8D1916C18>"
         },
         "metadata": {},
         "output_type": "display_data"
        }
       ]
      }
     },
     "46ad8a805b4f4034bf09fa7ff1ace305": {
      "model_module": "@jupyter-widgets/controls",
      "model_module_version": "1.5.0",
      "model_name": "ButtonStyleModel",
      "state": {}
     },
     "4acee54732b843c2bc7fc81fcbdd7d1c": {
      "model_module": "@jupyter-widgets/controls",
      "model_module_version": "1.5.0",
      "model_name": "ButtonStyleModel",
      "state": {}
     },
     "4da9a04a89954ad4a61c727077a9d65d": {
      "model_module": "@jupyter-widgets/controls",
      "model_module_version": "1.5.0",
      "model_name": "DescriptionStyleModel",
      "state": {
       "description_width": ""
      }
     },
     "510e948151fb425ebc74f3acf7848bdf": {
      "model_module": "@jupyter-widgets/controls",
      "model_module_version": "1.5.0",
      "model_name": "LabelModel",
      "state": {
       "layout": "IPY_MODEL_d65aa0de8ba64fa681e47345ae360b06",
       "style": "IPY_MODEL_4da9a04a89954ad4a61c727077a9d65d",
       "value": "Select your cannula!"
      }
     },
     "5402fc052a324552919734e9b40d4ad2": {
      "model_module": "@jupyter-widgets/base",
      "model_module_version": "1.2.0",
      "model_name": "LayoutModel",
      "state": {}
     },
     "5526a943a6df4a3b9eba627373c9f5dc": {
      "model_module": "@jupyter-widgets/base",
      "model_module_version": "1.2.0",
      "model_name": "LayoutModel",
      "state": {}
     },
     "5bcb84b8ad1b4b50ae870dcb5313b824": {
      "model_module": "@jupyter-widgets/controls",
      "model_module_version": "1.5.0",
      "model_name": "LabelModel",
      "state": {
       "layout": "IPY_MODEL_ee3cf1dae72842bc83da5766cdc0c149",
       "style": "IPY_MODEL_bbb4305fa3d9424fbfe26fe29c523d8f",
       "value": "Prediction: without_cornerstone_embossing; Probability: 0.9731"
      }
     },
     "5bd1a3878e16496585bee2fb4b381ce7": {
      "model_module": "@jupyter-widgets/base",
      "model_module_version": "1.2.0",
      "model_name": "LayoutModel",
      "state": {}
     },
     "606ff3834f4945b8be97fb2814d266db": {
      "model_module": "@jupyter-widgets/controls",
      "model_module_version": "1.5.0",
      "model_name": "LabelModel",
      "state": {
       "layout": "IPY_MODEL_5526a943a6df4a3b9eba627373c9f5dc",
       "style": "IPY_MODEL_f3ec951899ce4ab895e1d91ca3173c05",
       "value": "Select your cannula!"
      }
     },
     "615a372b9ca24e819deaf6ddfb390d79": {
      "model_module": "@jupyter-widgets/controls",
      "model_module_version": "1.5.0",
      "model_name": "VBoxModel",
      "state": {
       "children": [
        "IPY_MODEL_70561cb86f9940c7bc7d24c14b6237c9",
        "IPY_MODEL_7ebdca3ccee3414fb11ecbcc66d7488b",
        "IPY_MODEL_e9e254ba160a4e0b99e99734d390e3d0",
        "IPY_MODEL_8c5bc972b29e459eb1a4c756fd717ce8"
       ],
       "layout": "IPY_MODEL_e9742ede0c58428cb72a7d026b9fbc20"
      }
     },
     "66fefee7e47b40d6b08aa1a27d0b3c60": {
      "model_module": "@jupyter-widgets/base",
      "model_module_version": "1.2.0",
      "model_name": "LayoutModel",
      "state": {}
     },
     "70561cb86f9940c7bc7d24c14b6237c9": {
      "model_module": "@jupyter-widgets/controls",
      "model_module_version": "1.5.0",
      "model_name": "LabelModel",
      "state": {
       "layout": "IPY_MODEL_7ffee7dd973045159ec6aa4061103f8d",
       "style": "IPY_MODEL_7d38fa4b241c4c8c8b3be505367391c3",
       "value": "Select your bear!"
      }
     },
     "79002e43b1b84eb5bc88deea7f5d76fc": {
      "model_module": "@jupyter-widgets/controls",
      "model_module_version": "1.5.0",
      "model_name": "ButtonModel",
      "state": {
       "description": "Classify",
       "layout": "IPY_MODEL_a5ecd79a37de4ba0bf83334e6026c102",
       "style": "IPY_MODEL_4acee54732b843c2bc7fc81fcbdd7d1c"
      }
     },
     "7922f3db16a94d5d8ee08477bba2f1fc": {
      "model_module": "@jupyter-widgets/controls",
      "model_module_version": "1.5.0",
      "model_name": "LabelModel",
      "state": {
       "layout": "IPY_MODEL_a25b17dce8f3425facca86770da4f245",
       "style": "IPY_MODEL_d7c3323cf126426eaf185e77ece8e5f7",
       "value": "Prediction: without_cornerstone_embossing; Probability: 0.9731"
      }
     },
     "7941836cc1274cfc9bc5b8ca435be7a4": {
      "model_module": "@jupyter-widgets/base",
      "model_module_version": "1.2.0",
      "model_name": "LayoutModel",
      "state": {}
     },
     "7b3e8d1311b845e8b2ce3a44aeaac4c6": {
      "model_module": "@jupyter-widgets/controls",
      "model_module_version": "1.5.0",
      "model_name": "ButtonStyleModel",
      "state": {}
     },
     "7d38fa4b241c4c8c8b3be505367391c3": {
      "model_module": "@jupyter-widgets/controls",
      "model_module_version": "1.5.0",
      "model_name": "DescriptionStyleModel",
      "state": {
       "description_width": ""
      }
     },
     "7ebdca3ccee3414fb11ecbcc66d7488b": {
      "model_module": "@jupyter-widgets/controls",
      "model_module_version": "1.5.0",
      "model_name": "FileUploadModel",
      "state": {
       "description_tooltip": null,
       "layout": "IPY_MODEL_0f34df0093ac4a60b3de3920b101fa3f",
       "style": "IPY_MODEL_c22290e108a94795a33b3f111734663c"
      }
     },
     "7ffee7dd973045159ec6aa4061103f8d": {
      "model_module": "@jupyter-widgets/base",
      "model_module_version": "1.2.0",
      "model_name": "LayoutModel",
      "state": {}
     },
     "8209433bed4e48148918ab46d0905c22": {
      "model_module": "@jupyter-widgets/base",
      "model_module_version": "1.2.0",
      "model_name": "LayoutModel",
      "state": {}
     },
     "8a3f02426e4a4fc5a29c83272868a574": {
      "model_module": "@jupyter-widgets/controls",
      "model_module_version": "1.5.0",
      "model_name": "LabelModel",
      "state": {
       "layout": "IPY_MODEL_3216f69c63e94717b64ac0ca10ece754",
       "style": "IPY_MODEL_e4acd644693241a0b79d28fb49253da2",
       "value": "Prediction: without_cornerstone_embossing; Probability: 0.9731"
      }
     },
     "8a9065e68e954ea4b7a11f48d262ff84": {
      "model_module": "@jupyter-widgets/controls",
      "model_module_version": "1.5.0",
      "model_name": "ButtonStyleModel",
      "state": {}
     },
     "8c5bc972b29e459eb1a4c756fd717ce8": {
      "model_module": "@jupyter-widgets/controls",
      "model_module_version": "1.5.0",
      "model_name": "LabelModel",
      "state": {
       "layout": "IPY_MODEL_1d696c296b784c4286bd0e6b2f2df598",
       "style": "IPY_MODEL_fea99ac139fa497fbbaee1c81fe6ac90"
      }
     },
     "8c6994f3a5bc4b0bafef7ea98244fba6": {
      "model_module": "@jupyter-widgets/base",
      "model_module_version": "1.2.0",
      "model_name": "LayoutModel",
      "state": {}
     },
     "8dfe10b263e74712854cb26d3631c95a": {
      "model_module": "@jupyter-widgets/base",
      "model_module_version": "1.2.0",
      "model_name": "LayoutModel",
      "state": {}
     },
     "8e6604e63cbf47638789d8aef1fafec0": {
      "model_module": "@jupyter-widgets/output",
      "model_module_version": "1.0.0",
      "model_name": "OutputModel",
      "state": {
       "layout": "IPY_MODEL_8c6994f3a5bc4b0bafef7ea98244fba6",
       "outputs": [
        {
         "data": {
          "image/png": "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\n",
          "text/plain": "<PIL.Image.Image image mode=RGB size=128x96 at 0x7FF8D18ED5F8>"
         },
         "metadata": {},
         "output_type": "display_data"
        }
       ]
      }
     },
     "900ea1e5582b4843a873704fb73b3fae": {
      "model_module": "@jupyter-widgets/base",
      "model_module_version": "1.2.0",
      "model_name": "LayoutModel",
      "state": {}
     },
     "900f8abe39c247c8a1fcf338684fabfe": {
      "model_module": "@jupyter-widgets/controls",
      "model_module_version": "1.5.0",
      "model_name": "ButtonStyleModel",
      "state": {}
     },
     "929eb954e52541e3871a18f4cb616a31": {
      "model_module": "@jupyter-widgets/controls",
      "model_module_version": "1.5.0",
      "model_name": "ButtonStyleModel",
      "state": {}
     },
     "9397785f2c5b469bb0663513b482267b": {
      "model_module": "@jupyter-widgets/controls",
      "model_module_version": "1.5.0",
      "model_name": "ButtonModel",
      "state": {
       "description": "Classify",
       "layout": "IPY_MODEL_0cafd5a2a08146c8847ad4cdd6127f06",
       "style": "IPY_MODEL_0c99050925154f159be2ce999dbf51f2"
      }
     },
     "93cdc772ed3d41aa807ae5a4a4b7e6fd": {
      "model_module": "@jupyter-widgets/base",
      "model_module_version": "1.2.0",
      "model_name": "LayoutModel",
      "state": {}
     },
     "9494fc47b1eb4656bc8586675c3635d7": {
      "model_module": "@jupyter-widgets/base",
      "model_module_version": "1.2.0",
      "model_name": "LayoutModel",
      "state": {}
     },
     "961bf3c0d1174aaaaed5b51dc7143b87": {
      "model_module": "@jupyter-widgets/controls",
      "model_module_version": "1.5.0",
      "model_name": "ButtonStyleModel",
      "state": {}
     },
     "9634bab833024116874dc00efe0356f2": {
      "model_module": "@jupyter-widgets/controls",
      "model_module_version": "1.5.0",
      "model_name": "FileUploadModel",
      "state": {
       "description_tooltip": null,
       "layout": "IPY_MODEL_8dfe10b263e74712854cb26d3631c95a",
       "style": "IPY_MODEL_12b90a7677c84173bc436ddd8a600fe9"
      }
     },
     "967081e5637b40b18393882c4a62f52f": {
      "model_module": "@jupyter-widgets/controls",
      "model_module_version": "1.5.0",
      "model_name": "FileUploadModel",
      "state": {
       "description_tooltip": null,
       "layout": "IPY_MODEL_5402fc052a324552919734e9b40d4ad2",
       "style": "IPY_MODEL_a63d70d5d6c54305b3bc0428ef13c090"
      }
     },
     "97686370630a4d1396a7d18897804ab1": {
      "model_module": "@jupyter-widgets/controls",
      "model_module_version": "1.5.0",
      "model_name": "DescriptionStyleModel",
      "state": {
       "description_width": ""
      }
     },
     "a08c6a9da5a34dce82e7627892ce4112": {
      "model_module": "@jupyter-widgets/controls",
      "model_module_version": "1.5.0",
      "model_name": "FileUploadModel",
      "state": {
       "description_tooltip": null,
       "layout": "IPY_MODEL_08f234bf40524a98a403666c5f790492",
       "style": "IPY_MODEL_13d570ea8e3f40f7b941bef651c2255e"
      }
     },
     "a12e2fe0f9064e6d89f01d73f338bc16": {
      "model_module": "@jupyter-widgets/base",
      "model_module_version": "1.2.0",
      "model_name": "LayoutModel",
      "state": {}
     },
     "a14ffd2900a74f85b41610d115fe9a5d": {
      "model_module": "@jupyter-widgets/base",
      "model_module_version": "1.2.0",
      "model_name": "LayoutModel",
      "state": {}
     },
     "a1813c5c69434138bb1b8c583c4d58e0": {
      "model_module": "@jupyter-widgets/base",
      "model_module_version": "1.2.0",
      "model_name": "LayoutModel",
      "state": {}
     },
     "a25b17dce8f3425facca86770da4f245": {
      "model_module": "@jupyter-widgets/base",
      "model_module_version": "1.2.0",
      "model_name": "LayoutModel",
      "state": {}
     },
     "a420dc2d1b3e4a23be4efd6531760c09": {
      "model_module": "@jupyter-widgets/controls",
      "model_module_version": "1.5.0",
      "model_name": "LabelModel",
      "state": {
       "layout": "IPY_MODEL_f44c914be3d04c3087d10a3e2a8fe36d",
       "style": "IPY_MODEL_f476181fa19543939f5a0fa6cd7e2054",
       "value": "Select your cannula!"
      }
     },
     "a5ecd79a37de4ba0bf83334e6026c102": {
      "model_module": "@jupyter-widgets/base",
      "model_module_version": "1.2.0",
      "model_name": "LayoutModel",
      "state": {}
     },
     "a63d70d5d6c54305b3bc0428ef13c090": {
      "model_module": "@jupyter-widgets/controls",
      "model_module_version": "1.5.0",
      "model_name": "ButtonStyleModel",
      "state": {}
     },
     "ab36d122540641d5ae5a348e3919a9e3": {
      "model_module": "@jupyter-widgets/controls",
      "model_module_version": "1.5.0",
      "model_name": "VBoxModel",
      "state": {
       "children": [
        "IPY_MODEL_606ff3834f4945b8be97fb2814d266db",
        "IPY_MODEL_aefd2740ff49476b8aeec02f6eba5051",
        "IPY_MODEL_eb5490e5271a472facff3bca64dddd59",
        "IPY_MODEL_e67745dd078c4408a19d36467fc2c00e",
        "IPY_MODEL_5bcb84b8ad1b4b50ae870dcb5313b824"
       ],
       "layout": "IPY_MODEL_d10d235d5c7f4caca93cfcd2f6ce1e62"
      }
     },
     "ad469cfeba904aa8843ac1d7df221484": {
      "model_module": "@jupyter-widgets/base",
      "model_module_version": "1.2.0",
      "model_name": "LayoutModel",
      "state": {}
     },
     "aefd2740ff49476b8aeec02f6eba5051": {
      "model_module": "@jupyter-widgets/controls",
      "model_module_version": "1.5.0",
      "model_name": "FileUploadModel",
      "state": {
       "description_tooltip": null,
       "layout": "IPY_MODEL_a12e2fe0f9064e6d89f01d73f338bc16",
       "style": "IPY_MODEL_8a9065e68e954ea4b7a11f48d262ff84"
      }
     },
     "b4cdc677d7d7458a8fd8ee0bf8337950": {
      "model_module": "@jupyter-widgets/controls",
      "model_module_version": "1.5.0",
      "model_name": "VBoxModel",
      "state": {
       "children": [
        "IPY_MODEL_a420dc2d1b3e4a23be4efd6531760c09",
        "IPY_MODEL_eee69221fe9a497c9e9124eeda911181",
        "IPY_MODEL_9397785f2c5b469bb0663513b482267b",
        "IPY_MODEL_ff58e9798d20451a803077819e05fff2",
        "IPY_MODEL_d7f82a4d44874b25aa9c2bf78a868fbc"
       ],
       "layout": "IPY_MODEL_f4648ba8aa5b4c0d9f37751281de80ea"
      }
     },
     "b50b3de3830d443b9b50ab444e743722": {
      "model_module": "@jupyter-widgets/controls",
      "model_module_version": "1.5.0",
      "model_name": "ButtonStyleModel",
      "state": {}
     },
     "b64875b83adb4d6b893ac221b04163b3": {
      "model_module": "@jupyter-widgets/base",
      "model_module_version": "1.2.0",
      "model_name": "LayoutModel",
      "state": {}
     },
     "b64fd5461b3e470e8e4614ec83c6b606": {
      "model_module": "@jupyter-widgets/controls",
      "model_module_version": "1.5.0",
      "model_name": "LabelModel",
      "state": {
       "layout": "IPY_MODEL_9494fc47b1eb4656bc8586675c3635d7",
       "style": "IPY_MODEL_97686370630a4d1396a7d18897804ab1",
       "value": "Prediction: without_cornerstone_embossing; Probability: 0.9731"
      }
     },
     "bbb4305fa3d9424fbfe26fe29c523d8f": {
      "model_module": "@jupyter-widgets/controls",
      "model_module_version": "1.5.0",
      "model_name": "DescriptionStyleModel",
      "state": {
       "description_width": ""
      }
     },
     "bdb33056d1ef4a8cbb6d1929cca7246d": {
      "model_module": "@jupyter-widgets/base",
      "model_module_version": "1.2.0",
      "model_name": "LayoutModel",
      "state": {}
     },
     "c22290e108a94795a33b3f111734663c": {
      "model_module": "@jupyter-widgets/controls",
      "model_module_version": "1.5.0",
      "model_name": "ButtonStyleModel",
      "state": {}
     },
     "d10d235d5c7f4caca93cfcd2f6ce1e62": {
      "model_module": "@jupyter-widgets/base",
      "model_module_version": "1.2.0",
      "model_name": "LayoutModel",
      "state": {}
     },
     "d65aa0de8ba64fa681e47345ae360b06": {
      "model_module": "@jupyter-widgets/base",
      "model_module_version": "1.2.0",
      "model_name": "LayoutModel",
      "state": {}
     },
     "d7c3323cf126426eaf185e77ece8e5f7": {
      "model_module": "@jupyter-widgets/controls",
      "model_module_version": "1.5.0",
      "model_name": "DescriptionStyleModel",
      "state": {
       "description_width": ""
      }
     },
     "d7df2ac8ccb1457c91efab4c76add307": {
      "model_module": "@jupyter-widgets/controls",
      "model_module_version": "1.5.0",
      "model_name": "FileUploadModel",
      "state": {
       "description_tooltip": null,
       "layout": "IPY_MODEL_7941836cc1274cfc9bc5b8ca435be7a4",
       "style": "IPY_MODEL_961bf3c0d1174aaaaed5b51dc7143b87"
      }
     },
     "d7f82a4d44874b25aa9c2bf78a868fbc": {
      "model_module": "@jupyter-widgets/controls",
      "model_module_version": "1.5.0",
      "model_name": "LabelModel",
      "state": {
       "layout": "IPY_MODEL_ec8ed49a34a6418cb81df610c15a8b14",
       "style": "IPY_MODEL_0ce16db503434cdca87a2e73543d8fac",
       "value": "Prediction: without_cornerstone_embossing; Probability: 0.9731"
      }
     },
     "dbc63cdf64694a93ac22815d0bed3135": {
      "model_module": "@jupyter-widgets/controls",
      "model_module_version": "1.5.0",
      "model_name": "VBoxModel",
      "state": {
       "children": [
        "IPY_MODEL_510e948151fb425ebc74f3acf7848bdf",
        "IPY_MODEL_967081e5637b40b18393882c4a62f52f",
        "IPY_MODEL_79002e43b1b84eb5bc88deea7f5d76fc",
        "IPY_MODEL_27e750ce21cb46339f09d3ca2d4c51e8",
        "IPY_MODEL_7922f3db16a94d5d8ee08477bba2f1fc"
       ],
       "layout": "IPY_MODEL_ffcf237dedfb40799a0979799e69b1c6"
      }
     },
     "e4acd644693241a0b79d28fb49253da2": {
      "model_module": "@jupyter-widgets/controls",
      "model_module_version": "1.5.0",
      "model_name": "DescriptionStyleModel",
      "state": {
       "description_width": ""
      }
     },
     "e67745dd078c4408a19d36467fc2c00e": {
      "model_module": "@jupyter-widgets/output",
      "model_module_version": "1.0.0",
      "model_name": "OutputModel",
      "state": {
       "layout": "IPY_MODEL_93cdc772ed3d41aa807ae5a4a4b7e6fd",
       "outputs": [
        {
         "data": {
          "image/png": "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\n",
          "text/plain": "<PIL.Image.Image image mode=RGB size=128x96 at 0x7FF8D1953588>"
         },
         "metadata": {},
         "output_type": "display_data"
        }
       ]
      }
     },
     "e9742ede0c58428cb72a7d026b9fbc20": {
      "model_module": "@jupyter-widgets/base",
      "model_module_version": "1.2.0",
      "model_name": "LayoutModel",
      "state": {}
     },
     "e9e254ba160a4e0b99e99734d390e3d0": {
      "model_module": "@jupyter-widgets/output",
      "model_module_version": "1.0.0",
      "model_name": "OutputModel",
      "state": {
       "layout": "IPY_MODEL_b64875b83adb4d6b893ac221b04163b3"
      }
     },
     "eb5490e5271a472facff3bca64dddd59": {
      "model_module": "@jupyter-widgets/controls",
      "model_module_version": "1.5.0",
      "model_name": "ButtonModel",
      "state": {
       "description": "Classify",
       "layout": "IPY_MODEL_66fefee7e47b40d6b08aa1a27d0b3c60",
       "style": "IPY_MODEL_900f8abe39c247c8a1fcf338684fabfe"
      }
     },
     "ec8ed49a34a6418cb81df610c15a8b14": {
      "model_module": "@jupyter-widgets/base",
      "model_module_version": "1.2.0",
      "model_name": "LayoutModel",
      "state": {}
     },
     "ee3cf1dae72842bc83da5766cdc0c149": {
      "model_module": "@jupyter-widgets/base",
      "model_module_version": "1.2.0",
      "model_name": "LayoutModel",
      "state": {}
     },
     "eee69221fe9a497c9e9124eeda911181": {
      "model_module": "@jupyter-widgets/controls",
      "model_module_version": "1.5.0",
      "model_name": "FileUploadModel",
      "state": {
       "description_tooltip": null,
       "layout": "IPY_MODEL_a14ffd2900a74f85b41610d115fe9a5d",
       "style": "IPY_MODEL_46ad8a805b4f4034bf09fa7ff1ace305"
      }
     },
     "effe33d413e84548bad30d36cda39d0c": {
      "model_module": "@jupyter-widgets/base",
      "model_module_version": "1.2.0",
      "model_name": "LayoutModel",
      "state": {}
     },
     "f3ec951899ce4ab895e1d91ca3173c05": {
      "model_module": "@jupyter-widgets/controls",
      "model_module_version": "1.5.0",
      "model_name": "DescriptionStyleModel",
      "state": {
       "description_width": ""
      }
     },
     "f44c914be3d04c3087d10a3e2a8fe36d": {
      "model_module": "@jupyter-widgets/base",
      "model_module_version": "1.2.0",
      "model_name": "LayoutModel",
      "state": {}
     },
     "f4648ba8aa5b4c0d9f37751281de80ea": {
      "model_module": "@jupyter-widgets/base",
      "model_module_version": "1.2.0",
      "model_name": "LayoutModel",
      "state": {}
     },
     "f476181fa19543939f5a0fa6cd7e2054": {
      "model_module": "@jupyter-widgets/controls",
      "model_module_version": "1.5.0",
      "model_name": "DescriptionStyleModel",
      "state": {
       "description_width": ""
      }
     },
     "fea99ac139fa497fbbaee1c81fe6ac90": {
      "model_module": "@jupyter-widgets/controls",
      "model_module_version": "1.5.0",
      "model_name": "DescriptionStyleModel",
      "state": {
       "description_width": ""
      }
     },
     "ff58e9798d20451a803077819e05fff2": {
      "model_module": "@jupyter-widgets/output",
      "model_module_version": "1.0.0",
      "model_name": "OutputModel",
      "state": {
       "layout": "IPY_MODEL_8209433bed4e48148918ab46d0905c22",
       "outputs": [
        {
         "data": {
          "image/png": "iVBORw0KGgoAAAANSUhEUgAAAIAAAABgCAIAAABaGO0eAAAH+UlEQVR4nO2cPW/UTBDHd9e7fru73HEHSkhBCqgoaHipAjQgvgrfAVKnoAKJipYSIVEBHYoEQYoEpAEBpygHOpLcnZU4vrO99tr7FCOs6Hna2Ht6vL8i2pwcZbL/3ZndmXGwlBJp1EFUG1B3tACK0QIoRgugGC2AYrQAitECKEYLoJh5EeDHjx9hGKq2QgFzIcCXL19WV1fX1tZUG6ICqZrhcHjr1i2EUKvV+vr1q2pzqkbxDhiPxw8fPvzw4QOlNAiCJ0+e5Hmu1qSKUSlAFEWPHz9++fJllmXwyevXr+sWCVQKEMfxmzdvfN/HGOd5Tgg5ODjY3t5WaFL1KBNASrm9vT2dTuFbjDEhJI7j79+/qzJJCWoEkFJ++vRpbW1NSokxhg/B+x8eHioxSRVqBBgOh+vr64SQLMsIIQghQkir1UIIbWxsKDFJFWoEODo6ajQay8vLf/78gQic5zkMkiRRYpIqaPW/cjAY9Pv9NE13d3dbrRZMvZQyiiKEkKxZibRqAbIs29nZmU6nKysrCwsLlNLfv3+Px2POOQQDxljFJqmlUgGEEOPx2PO8RqNh27ZhGLZtwwD9DcIwrg/VCZDn+fr6uuM4zWbTcRxKqeu6hmGkaUopNQxDCIEQunHjRmUmzQMVBeHZbPbo0aO3b9/GcdxqtdI0NQwDY0wppZSaplm4/kuXLlVj0pxQkQCe57148cJ1XSEEuJosy0ADy7KklEIIKaVhGHULwhUJ8Pz5c8/zKKVJkhBCLMsyTRMCLyEkTVMpJSHEcZy6xYAqBNjc3Hz27BmlNMsyjLFt20UyNk3TMAyjKKKUIoQYYzCoD6ULEEXRgwcPJpMJIQRjzBgDb2PbNmMsTdM4juHyZRhGlmXv3r0r26S5onQBXr16tbGx4bouHHVAAMZYEATwSRzHcB5FCGGMdQw4TTjnT58+lVIyxiDTkGUZ55xSijGezWZCiCiKYHNkWSaEuH37dqkmzRulCzAYDMCt53kuhOCcx3GcpmmaplEUTadTCACEEMjK6R1wmmxtbe3v7xNCoN6CEDJNk1L669evw8PDbrcbBAHsDJCBMfbx48dSTZo3yhVgOBwWdy44AsEsE0IWFxeDIPA8D+4BCCEhBMZY1wNOk+JIk+e5YRicc4SQ53m+7zebzd3d3ePj4263e7ImU7eifLmH7sFggBCCwkuapkII3/eDIHAc5+fPn/1+P47j2WxWTDrGuNPplGrSvFHiDvB9fzgcIoTAy0sp8zz3PC+KIinlZDLZ3d1tNpuNRgOCBBQGrl+/Xp5Jc0iJAgwGg52dnaLiCL4eUv+O4wRBkCTJ8vKyZVm9Xg8yEJ1OB9xUfShRAEixwd1KSpkkyWw2C4JgOp0eHBxsbm46jtNut4UQrVbLdV2EEGNsZ2enPJPmkBIF+Pz5M0w9aCCEgLSPEGJra8vzvJWVFUiOwhkJIRSGIYSN+lCiAN++fSvGEIQ552EYHh4e9vv9brd779490zQxxqPRKI5jhFAYhuCy6kOJf23R35BlWZ7nURQlSZKm6WAwiKLoypUrS0tLQRDArRj2AVwUyjNpDinxr03TFAaQ8IEwu7e35/s+IeTmzZu+70dRlOc557zIQOggfGoUcwp5/yIII4QuXrx49epVzrllWZAjKn6qkK0mlChAcb8FYKKllJTS1dXVZrNJKW02m/AkPJxl2Z07d8ozaQ6pYgec/FZKeffu3cuXL0MbOqx9KAXDTa1o160JVewAyIBCD/q5c+fu378fx/He3t5oNPJ9P0kSkAH2weLiYnkmzSElClCUeU+2O1y4cKHZbB4dHQkhJpMJHH6gHqBPQacMNBkWTShQjr927Vocx67rQjCAKjycU2GL6FPQqVHEVUi0GYaxsLAArXBSSsuybNsu5IHnDcN4//59eSbNISXugCIJijF2HIcx5jjOaDSaTCaUUvD7cBOG52EAV+L6UKIAcPOCRJDrutB/2Ol0GGOMsfF4DJJArwpU5CmldSvIVJF4IYTAjdeyLLiRCSEajQY0Akkp4SsEYehPqQ8lCgAHGxhDXvr8+fO9Xs+2bUIIpZRzDuGhaAeSUp45c6Y8k+aQKnZAcb5stVpCiDiOLcvinAdB0G63GWNFJg5jvL+/X4FJ80OJAoBjgTHGmHM+Go2CIPB9n3NumiYhBPpzwe/Dw7o595QB94IxFkIcHx+Px2PIjMJ6T5IEGqSLGFC3IFziKQgCAKxrmFzOOWMMjv+macL1GB6DOkye57ozroTfQQh0PFBKIf/caDQWFhagFAMzXqQi/pVD/d9TURCGlW6apm3bQogsyxYXF0EDOKHWzfMUlC4ALG1okJZSBkFgWZZlWYSQbrfbbrdN00R/u4bQf6oI/3tKzwUVHibPc3ghwDAMSmkYhtASAS8nFbV4LcApA0sb9kGv12OMnT17FmPcbrehbxcWPmhQwxc0Sk/GgX+HtR8EwdLSUqfTCcMQenWLazDM+7/qw3WgRAFc1+31epBfsyyr0+nA+9mNRgPyo71eb3l5OU3To6Mj+LcpWZbVLRdU4paHPriT2WbwM/CWJCEEsnInL8xQJ4BKfU2onc+dN+rVBziHaAEUowVQjBZAMVoAxWgBFKMFUIwWQDFaAMVoARSjBVCMFkAxWgDFaAEUowVQjBZAMVoAxWgBFKMFUIwWQDFaAMVoARSjBVCMFkAxWgDFaAEUowVQjBZAMVoAlcRxrAVQyWAw+AeG2z+DUaUPhAAAAABJRU5ErkJggg==\n",
          "text/plain": "<PIL.Image.Image image mode=RGB size=128x96 at 0x7FF8D18E08D0>"
         },
         "metadata": {},
         "output_type": "display_data"
        }
       ]
      }
     },
     "ffcf237dedfb40799a0979799e69b1c6": {
      "model_module": "@jupyter-widgets/base",
      "model_module_version": "1.2.0",
      "model_name": "LayoutModel",
      "state": {}
     }
    },
    "version_major": 2,
    "version_minor": 0
   }
  }
 },
 "nbformat": 4,
 "nbformat_minor": 4
}
