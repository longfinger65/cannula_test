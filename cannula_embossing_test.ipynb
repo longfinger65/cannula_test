{
 "cells": [
  {
   "cell_type": "code",
   "execution_count": 2,
   "metadata": {},
   "outputs": [],
   "source": [
    "from fastai.vision.all import *\n",
    "from fastai.vision.widgets import *"
   ]
  },
  {
   "cell_type": "code",
   "execution_count": 19,
   "metadata": {},
   "outputs": [
    {
     "data": {
      "image/png": "[encoded data removed]",
      "text/plain": [
       "<PIL.Image.Image image mode=RGB size=128x128 at 0x7F8467BDAA20>"
      ]
     },
     "metadata": {},
     "output_type": "display_data"
    }
   ],
   "source": [
    "imgLauncher = PILImage.create('ic_launcher_foreground.png')\n",
    "display(imgLauncher.to_thumb(128,128))"
   ]
  },
  {
   "cell_type": "markdown",
   "metadata": {},
   "source": [
    "# OdarTec Cannula Classifier!"
   ]
  },
  {
   "cell_type": "markdown",
   "metadata": {},
   "source": [
    "You need to know whether a cannula has embossings or not - upload an image of a cannula.\n",
    "\n",
    "----"
   ]
  },
  {
   "cell_type": "code",
   "execution_count": 20,
   "metadata": {},
   "outputs": [],
   "source": [
    "path = Path()\n",
    "learn_inf = load_learner(path/'export.pkl', cpu=True)\n",
    "btn_upload = widgets.FileUpload()\n",
    "out_pl = widgets.Output()\n",
    "lbl_pred = widgets.Label()"
   ]
  },
  {
   "cell_type": "code",
   "execution_count": 21,
   "metadata": {},
   "outputs": [],
   "source": [
    "def on_data_change(change):\n",
    "    lbl_pred.value = ''\n",
    "    img = PILImage.create(btn_upload.data[-1])\n",
    "    out_pl.clear_output()\n",
    "    with out_pl: display(img.to_thumb(128,128))\n",
    "    pred,pred_idx,probs = learn_inf.predict(img)\n",
    "    lbl_pred.value = f'Prediction: {pred}; Probability: {probs[pred_idx]:.04f}'"
   ]
  },
  {
   "cell_type": "code",
   "execution_count": 22,
   "metadata": {},
   "outputs": [],
   "source": [
    "btn_upload.observe(on_data_change, names=['data'])"
   ]
  },
  {
   "cell_type": "code",
   "execution_count": 23,
   "metadata": {},
   "outputs": [
    {
     "data": {
      "application/vnd.jupyter.widget-view+json": {
       "model_id": "8afbdbf0710f497d858cf19cf21db7f7",
       "version_major": 2,
       "version_minor": 0
      },
      "text/plain": [
       "VBox(children=(Label(value='Select your cannula!'), FileUpload(value={}, description='Upload'), Output(), Labe…"
      ]
     },
     "metadata": {},
     "output_type": "display_data"
    }
   ],
   "source": [
    "display(VBox([widgets.Label('Select your cannula!'), btn_upload, out_pl, lbl_pred]))"
   ]
  },
  {
   "cell_type": "code",
   "execution_count": null,
   "metadata": {},
   "outputs": [],
   "source": []
  }
 ],
 "metadata": {
  "jupytext": {
   "split_at_heading": true
  },
  "kernelspec": {
   "display_name": "Python 3",
   "language": "python",
   "name": "python3"
  },
  "language_info": {
   "codemirror_mode": {
    "name": "ipython",
    "version": 3
   },
   "file_extension": ".py",
   "mimetype": "text/x-python",
   "name": "python",
   "nbconvert_exporter": "python",
   "pygments_lexer": "ipython3",
   "version": "3.6.9"
  },
  "toc": {
   "base_numbering": 1,
   "nav_menu": {},
   "number_sections": false,
   "sideBar": true,
   "skip_h1_title": true,
   "title_cell": "Table of Contents",
   "title_sidebar": "Contents",
   "toc_cell": false,
   "toc_position": {},
   "toc_section_display": true,
   "toc_window_display": false
  },
  "widgets": {
   "application/vnd.jupyter.widget-state+json": {
    "state": {
     "029d8ebf128b458e97ab87a5b4aa0963": {
      "model_module": "@jupyter-widgets/controls",
      "model_module_version": "1.5.0",
      "model_name": "DescriptionStyleModel",
      "state": {
       "description_width": ""
      }
     },
     "093193b6dec94f9599f5ddc4f3fe2b9c": {
      "model_module": "@jupyter-widgets/base",
      "model_module_version": "1.2.0",
      "model_name": "LayoutModel",
      "state": {}
     },
     "18b2563bad694f93867b853cf52d57c4": {
      "model_module": "@jupyter-widgets/base",
      "model_module_version": "1.2.0",
      "model_name": "LayoutModel",
      "state": {}
     },
     "1926ac69a93c40428fe245939a7645c2": {
      "model_module": "@jupyter-widgets/controls",
      "model_module_version": "1.5.0",
      "model_name": "FileUploadModel",
      "state": {
       "description_tooltip": null,
       "layout": "IPY_MODEL_18b2563bad694f93867b853cf52d57c4",
       "style": "IPY_MODEL_70e7e4e1af6c4c25a7300fa5cb07bdec"
      }
     },
     "19a85fba6a22416d8f93b57f371831f4": {
      "model_module": "@jupyter-widgets/controls",
      "model_module_version": "1.5.0",
      "model_name": "LabelModel",
      "state": {
       "layout": "IPY_MODEL_30b5592d3bce4bac98d9346dfc51b219",
       "style": "IPY_MODEL_80c4fa9292504c6b94305ec62295b59a"
      }
     },
     "19b8db33bacd4f3b99dd18afb8f776fa": {
      "model_module": "@jupyter-widgets/controls",
      "model_module_version": "1.5.0",
      "model_name": "ButtonStyleModel",
      "state": {}
     },
     "2050a2602bcb466ca301074f0bff21ca": {
      "model_module": "@jupyter-widgets/controls",
      "model_module_version": "1.5.0",
      "model_name": "DescriptionStyleModel",
      "state": {
       "description_width": ""
      }
     },
     "256fec52988f4c41a1d3c5cfd349e5b6": {
      "model_module": "@jupyter-widgets/controls",
      "model_module_version": "1.5.0",
      "model_name": "LabelModel",
      "state": {
       "layout": "IPY_MODEL_480a15b2139c473aa8799184fd585a91",
       "style": "IPY_MODEL_029d8ebf128b458e97ab87a5b4aa0963"
      }
     },
     "2863086f3d50430386fdd0e126c11fe3": {
      "model_module": "@jupyter-widgets/controls",
      "model_module_version": "1.5.0",
      "model_name": "LabelModel",
      "state": {
       "layout": "IPY_MODEL_7318a0e8c1484e3d8700fb79d500f9d7",
       "style": "IPY_MODEL_3f9add331a0b4c3a9e7921320b8a9ac8",
       "value": "Select your cannula!"
      }
     },
     "30b5592d3bce4bac98d9346dfc51b219": {
      "model_module": "@jupyter-widgets/base",
      "model_module_version": "1.2.0",
      "model_name": "LayoutModel",
      "state": {}
     },
     "379f0a8779ec406fbdc11dd54e4ffc8c": {
      "model_module": "@jupyter-widgets/base",
      "model_module_version": "1.2.0",
      "model_name": "LayoutModel",
      "state": {}
     },
     "3f9add331a0b4c3a9e7921320b8a9ac8": {
      "model_module": "@jupyter-widgets/controls",
      "model_module_version": "1.5.0",
      "model_name": "DescriptionStyleModel",
      "state": {
       "description_width": ""
      }
     },
     "461a94384e5a462eb2dc7e7c0e55f332": {
      "model_module": "@jupyter-widgets/base",
      "model_module_version": "1.2.0",
      "model_name": "LayoutModel",
      "state": {}
     },
     "47fc492107144da7978aff5de6073e27": {
      "model_module": "@jupyter-widgets/base",
      "model_module_version": "1.2.0",
      "model_name": "LayoutModel",
      "state": {}
     },
     "480a15b2139c473aa8799184fd585a91": {
      "model_module": "@jupyter-widgets/base",
      "model_module_version": "1.2.0",
      "model_name": "LayoutModel",
      "state": {}
     },
     "49e384ea241a4a0f90154598aedcb03d": {
      "model_module": "@jupyter-widgets/controls",
      "model_module_version": "1.5.0",
      "model_name": "VBoxModel",
      "state": {
       "children": [
        "IPY_MODEL_a89c31c2df364440a1b6896e89f640df",
        "IPY_MODEL_fbeb5340f4cf4fb5b05491cab693c248",
        "IPY_MODEL_d13c4c2f85994bdd82edd6b6a2ca2882",
        "IPY_MODEL_826f61a833974a4f844448da486a9deb"
       ],
       "layout": "IPY_MODEL_e3db4cb9726c4a73be4f051550bb7e22"
      }
     },
     "524096dbb92a4626a5de1d2ce4d36ef8": {
      "model_module": "@jupyter-widgets/base",
      "model_module_version": "1.2.0",
      "model_name": "LayoutModel",
      "state": {}
     },
     "539c4b257752445186b0e42b03a42eb6": {
      "model_module": "@jupyter-widgets/controls",
      "model_module_version": "1.5.0",
      "model_name": "DescriptionStyleModel",
      "state": {
       "description_width": ""
      }
     },
     "57f46a407f4d4e83b7138d990359324c": {
      "model_module": "@jupyter-widgets/base",
      "model_module_version": "1.2.0",
      "model_name": "LayoutModel",
      "state": {}
     },
     "582b3dfe92054f0f8f6f326680991393": {
      "model_module": "@jupyter-widgets/base",
      "model_module_version": "1.2.0",
      "model_name": "LayoutModel",
      "state": {}
     },
     "5bae8757c2b54ba786c03b31cb464643": {
      "model_module": "@jupyter-widgets/controls",
      "model_module_version": "1.5.0",
      "model_name": "LabelModel",
      "state": {
       "layout": "IPY_MODEL_379f0a8779ec406fbdc11dd54e4ffc8c",
       "style": "IPY_MODEL_2050a2602bcb466ca301074f0bff21ca",
       "value": "Select your cannula!"
      }
     },
     "5d8de58aeb3b4504905ddb973b2abe89": {
      "model_module": "@jupyter-widgets/base",
      "model_module_version": "1.2.0",
      "model_name": "LayoutModel",
      "state": {}
     },
     "6080ef68a7f847a0ba36f6d8e9d539f4": {
      "model_module": "@jupyter-widgets/controls",
      "model_module_version": "1.5.0",
      "model_name": "DescriptionStyleModel",
      "state": {
       "description_width": ""
      }
     },
     "6377b64c45a740fe91328e4ebf2b12be": {
      "model_module": "@jupyter-widgets/base",
      "model_module_version": "1.2.0",
      "model_name": "LayoutModel",
      "state": {}
     },
     "6ba3263ea9884496899afbac76f7fd48": {
      "model_module": "@jupyter-widgets/base",
      "model_module_version": "1.2.0",
      "model_name": "LayoutModel",
      "state": {}
     },
     "70e7e4e1af6c4c25a7300fa5cb07bdec": {
      "model_module": "@jupyter-widgets/controls",
      "model_module_version": "1.5.0",
      "model_name": "ButtonStyleModel",
      "state": {}
     },
     "7318a0e8c1484e3d8700fb79d500f9d7": {
      "model_module": "@jupyter-widgets/base",
      "model_module_version": "1.2.0",
      "model_name": "LayoutModel",
      "state": {}
     },
     "7dd6bd0f49f042ffaf0d8db383793b3e": {
      "model_module": "@jupyter-widgets/output",
      "model_module_version": "1.0.0",
      "model_name": "OutputModel",
      "state": {
       "layout": "IPY_MODEL_6377b64c45a740fe91328e4ebf2b12be"
      }
     },
     "80c4fa9292504c6b94305ec62295b59a": {
      "model_module": "@jupyter-widgets/controls",
      "model_module_version": "1.5.0",
      "model_name": "DescriptionStyleModel",
      "state": {
       "description_width": ""
      }
     },
     "826f61a833974a4f844448da486a9deb": {
      "model_module": "@jupyter-widgets/controls",
      "model_module_version": "1.5.0",
      "model_name": "LabelModel",
      "state": {
       "layout": "IPY_MODEL_093193b6dec94f9599f5ddc4f3fe2b9c",
       "style": "IPY_MODEL_6080ef68a7f847a0ba36f6d8e9d539f4"
      }
     },
     "8afbdbf0710f497d858cf19cf21db7f7": {
      "model_module": "@jupyter-widgets/controls",
      "model_module_version": "1.5.0",
      "model_name": "VBoxModel",
      "state": {
       "children": [
        "IPY_MODEL_5bae8757c2b54ba786c03b31cb464643",
        "IPY_MODEL_facedb927d1a402ab15c3865aa0921fd",
        "IPY_MODEL_9990dc761d5243579688dcd7386acb64",
        "IPY_MODEL_19a85fba6a22416d8f93b57f371831f4"
       ],
       "layout": "IPY_MODEL_524096dbb92a4626a5de1d2ce4d36ef8"
      }
     },
     "98a84ec41fa347e78fcedb14bbfc78e4": {
      "model_module": "@jupyter-widgets/base",
      "model_module_version": "1.2.0",
      "model_name": "LayoutModel",
      "state": {}
     },
     "9990dc761d5243579688dcd7386acb64": {
      "model_module": "@jupyter-widgets/output",
      "model_module_version": "1.0.0",
      "model_name": "OutputModel",
      "state": {
       "layout": "IPY_MODEL_98a84ec41fa347e78fcedb14bbfc78e4"
      }
     },
     "9d08eded705e4ed1ba95411526d64d1b": {
      "model_module": "@jupyter-widgets/base",
      "model_module_version": "1.2.0",
      "model_name": "LayoutModel",
      "state": {}
     },
     "a6b4e1a751d24fdd8d121634b995d4ac": {
      "model_module": "@jupyter-widgets/output",
      "model_module_version": "1.0.0",
      "model_name": "OutputModel",
      "state": {
       "layout": "IPY_MODEL_9d08eded705e4ed1ba95411526d64d1b"
      }
     },
     "a89c31c2df364440a1b6896e89f640df": {
      "model_module": "@jupyter-widgets/controls",
      "model_module_version": "1.5.0",
      "model_name": "LabelModel",
      "state": {
       "layout": "IPY_MODEL_461a94384e5a462eb2dc7e7c0e55f332",
       "style": "IPY_MODEL_539c4b257752445186b0e42b03a42eb6",
       "value": "Select your cannula!"
      }
     },
     "a8cd858e9cd546f8981d1c2e5b71995c": {
      "model_module": "@jupyter-widgets/controls",
      "model_module_version": "1.5.0",
      "model_name": "ButtonStyleModel",
      "state": {}
     },
     "ad57009bc4644a3886f7ccc0452b7980": {
      "model_module": "@jupyter-widgets/controls",
      "model_module_version": "1.5.0",
      "model_name": "LabelModel",
      "state": {
       "layout": "IPY_MODEL_582b3dfe92054f0f8f6f326680991393",
       "style": "IPY_MODEL_f307ded793854dee92f2fafd761c1cf8"
      }
     },
     "bbeaf36550b44b768a0cb809897b5be9": {
      "model_module": "@jupyter-widgets/controls",
      "model_module_version": "1.5.0",
      "model_name": "LabelModel",
      "state": {
       "layout": "IPY_MODEL_57f46a407f4d4e83b7138d990359324c",
       "style": "IPY_MODEL_f1259084cfcd4acda887a29c3907957b",
       "value": "Select your cannula!"
      }
     },
     "d13c4c2f85994bdd82edd6b6a2ca2882": {
      "model_module": "@jupyter-widgets/output",
      "model_module_version": "1.0.0",
      "model_name": "OutputModel",
      "state": {
       "layout": "IPY_MODEL_47fc492107144da7978aff5de6073e27"
      }
     },
     "dadc6e2d0807497aab1e2a4d9743f7fb": {
      "model_module": "@jupyter-widgets/controls",
      "model_module_version": "1.5.0",
      "model_name": "ButtonStyleModel",
      "state": {}
     },
     "e3db4cb9726c4a73be4f051550bb7e22": {
      "model_module": "@jupyter-widgets/base",
      "model_module_version": "1.2.0",
      "model_name": "LayoutModel",
      "state": {}
     },
     "f1259084cfcd4acda887a29c3907957b": {
      "model_module": "@jupyter-widgets/controls",
      "model_module_version": "1.5.0",
      "model_name": "DescriptionStyleModel",
      "state": {
       "description_width": ""
      }
     },
     "f1e2b1caf5f24fa78ac0bb0ec84ecad7": {
      "model_module": "@jupyter-widgets/base",
      "model_module_version": "1.2.0",
      "model_name": "LayoutModel",
      "state": {}
     },
     "f307ded793854dee92f2fafd761c1cf8": {
      "model_module": "@jupyter-widgets/controls",
      "model_module_version": "1.5.0",
      "model_name": "DescriptionStyleModel",
      "state": {
       "description_width": ""
      }
     },
     "facedb927d1a402ab15c3865aa0921fd": {
      "model_module": "@jupyter-widgets/controls",
      "model_module_version": "1.5.0",
      "model_name": "FileUploadModel",
      "state": {
       "description_tooltip": null,
       "layout": "IPY_MODEL_6ba3263ea9884496899afbac76f7fd48",
       "style": "IPY_MODEL_19b8db33bacd4f3b99dd18afb8f776fa"
      }
     },
     "fbeb5340f4cf4fb5b05491cab693c248": {
      "model_module": "@jupyter-widgets/controls",
      "model_module_version": "1.5.0",
      "model_name": "FileUploadModel",
      "state": {
       "description_tooltip": null,
       "layout": "IPY_MODEL_5d8de58aeb3b4504905ddb973b2abe89",
       "style": "IPY_MODEL_a8cd858e9cd546f8981d1c2e5b71995c"
      }
     },
     "fca32e74fb53480fbe23c9db1ffcce5f": {
      "model_module": "@jupyter-widgets/controls",
      "model_module_version": "1.5.0",
      "model_name": "FileUploadModel",
      "state": {
       "description_tooltip": null,
       "layout": "IPY_MODEL_f1e2b1caf5f24fa78ac0bb0ec84ecad7",
       "style": "IPY_MODEL_dadc6e2d0807497aab1e2a4d9743f7fb"
      }
     }
    },
    "version_major": 2,
    "version_minor": 0
   }
  }
 },
 "nbformat": 4,
 "nbformat_minor": 4
}
