{
 "cells": [
  {
   "cell_type": "code",
   "execution_count": 1,
   "metadata": {},
   "outputs": [],
   "source": [
    "from fastai.vision.all import *\n",
    "from fastai.vision.widgets import *"
   ]
  },
  {
   "cell_type": "markdown",
   "metadata": {},
   "source": [
    "# The Amazing Cannula Classifier!"
   ]
  },
  {
   "cell_type": "markdown",
   "metadata": {},
   "source": [
    "You need to know whether a cannula has embossings or not - upload an image of a cannula.\n",
    "\n",
    "----"
   ]
  },
  {
   "cell_type": "code",
   "execution_count": 2,
   "metadata": {},
   "outputs": [],
   "source": [
    "path = Path()\n",
    "learn_inf = load_learner(path/'export.pkl', cpu=True)\n",
    "btn_upload = widgets.FileUpload()\n",
    "out_pl = widgets.Output()\n",
    "lbl_pred = widgets.Label()"
   ]
  },
  {
   "cell_type": "code",
   "execution_count": 3,
   "metadata": {},
   "outputs": [],
   "source": [
    "def on_data_change(change):\n",
    "    lbl_pred.value = ''\n",
    "    img = PILImage.create(btn_upload.data[-1])\n",
    "    out_pl.clear_output()\n",
    "    with out_pl: display(img.to_thumb(128,128))\n",
    "    pred,pred_idx,probs = learn_inf.predict(img)\n",
    "    lbl_pred.value = f'Prediction: {pred}; Probability: {probs[pred_idx]:.04f}'"
   ]
  },
  {
   "cell_type": "code",
   "execution_count": 4,
   "metadata": {},
   "outputs": [],
   "source": [
    "btn_upload.observe(on_data_change, names=['data'])"
   ]
  },
  {
   "cell_type": "code",
   "execution_count": 5,
   "metadata": {},
   "outputs": [
    {
     "data": {
      "application/vnd.jupyter.widget-view+json": {
       "model_id": "36f28989a32d47baaee5400caea0b494",
       "version_major": 2,
       "version_minor": 0
      },
      "text/plain": [
       "VBox(children=(Label(value='Select your cannula!'), FileUpload(value={}, description='Upload'), Output(), Labe…"
      ]
     },
     "metadata": {},
     "output_type": "display_data"
    }
   ],
   "source": [
    "display(VBox([widgets.Label('Select your cannula!'), btn_upload, out_pl, lbl_pred]))"
   ]
  },
  {
   "cell_type": "code",
   "execution_count": null,
   "metadata": {},
   "outputs": [],
   "source": []
  }
 ],
 "metadata": {
  "jupytext": {
   "split_at_heading": true
  },
  "kernelspec": {
   "display_name": "Python 3",
   "language": "python",
   "name": "python3"
  },
  "language_info": {
   "codemirror_mode": {
    "name": "ipython",
    "version": 3
   },
   "file_extension": ".py",
   "mimetype": "text/x-python",
   "name": "python",
   "nbconvert_exporter": "python",
   "pygments_lexer": "ipython3",
   "version": "3.6.9"
  },
  "toc": {
   "base_numbering": 1,
   "nav_menu": {},
   "number_sections": false,
   "sideBar": true,
   "skip_h1_title": true,
   "title_cell": "Table of Contents",
   "title_sidebar": "Contents",
   "toc_cell": false,
   "toc_position": {},
   "toc_section_display": true,
   "toc_window_display": false
  },
  "widgets": {
   "application/vnd.jupyter.widget-state+json": {
    "state": {
     "020ecdf9d6644ca58bdb020f1c68220e": {
      "model_module": "@jupyter-widgets/base",
      "model_module_version": "1.2.0",
      "model_name": "LayoutModel",
      "state": {}
     },
     "02e2e155165042f0a34880b56287a16b": {
      "model_module": "@jupyter-widgets/controls",
      "model_module_version": "1.5.0",
      "model_name": "FileUploadModel",
      "state": {
       "description_tooltip": null,
       "layout": "IPY_MODEL_bdb33056d1ef4a8cbb6d1929cca7246d",
       "style": "IPY_MODEL_246ba1fe28e04c95befde2bf268b2b6a"
      }
     },
     "039b6c2b59f34ac98474b5f752a57a9d": {
      "model_module": "@jupyter-widgets/base",
      "model_module_version": "1.2.0",
      "model_name": "LayoutModel",
      "state": {}
     },
     "0471951913884f858e1b26847b5c9456": {
      "model_module": "@jupyter-widgets/base",
      "model_module_version": "1.2.0",
      "model_name": "LayoutModel",
      "state": {}
     },
     "06674a4bde204460930a69223f370f96": {
      "model_module": "@jupyter-widgets/controls",
      "model_module_version": "1.5.0",
      "model_name": "VBoxModel",
      "state": {
       "children": [
        "IPY_MODEL_16a70f81a8a9445e8722cc8dbda2c676",
        "IPY_MODEL_2a8d996efb554d9492e3868e1e338cd1",
        "IPY_MODEL_28c6282932964c9597fa819030c0bcb8",
        "IPY_MODEL_467cf917275c4f0f8f12091edde6ac60",
        "IPY_MODEL_8a3f02426e4a4fc5a29c83272868a574"
       ],
       "layout": "IPY_MODEL_effe33d413e84548bad30d36cda39d0c"
      }
     },
     "07658c72595841eeadc15a944dda3e06": {
      "model_module": "@jupyter-widgets/controls",
      "model_module_version": "1.5.0",
      "model_name": "FileUploadModel",
      "state": {
       "description_tooltip": null,
       "layout": "IPY_MODEL_ad469cfeba904aa8843ac1d7df221484",
       "style": "IPY_MODEL_b50b3de3830d443b9b50ab444e743722"
      }
     },
     "080d41d3751e4b05800830bad32dcb52": {
      "model_module": "@jupyter-widgets/controls",
      "model_module_version": "1.5.0",
      "model_name": "DescriptionStyleModel",
      "state": {
       "description_width": ""
      }
     },
     "08f234bf40524a98a403666c5f790492": {
      "model_module": "@jupyter-widgets/base",
      "model_module_version": "1.2.0",
      "model_name": "LayoutModel",
      "state": {}
     },
     "0c99050925154f159be2ce999dbf51f2": {
      "model_module": "@jupyter-widgets/controls",
      "model_module_version": "1.5.0",
      "model_name": "ButtonStyleModel",
      "state": {}
     },
     "0cafd5a2a08146c8847ad4cdd6127f06": {
      "model_module": "@jupyter-widgets/base",
      "model_module_version": "1.2.0",
      "model_name": "LayoutModel",
      "state": {}
     },
     "0ce16db503434cdca87a2e73543d8fac": {
      "model_module": "@jupyter-widgets/controls",
      "model_module_version": "1.5.0",
      "model_name": "DescriptionStyleModel",
      "state": {
       "description_width": ""
      }
     },
     "0f34df0093ac4a60b3de3920b101fa3f": {
      "model_module": "@jupyter-widgets/base",
      "model_module_version": "1.2.0",
      "model_name": "LayoutModel",
      "state": {}
     },
     "12b90a7677c84173bc436ddd8a600fe9": {
      "model_module": "@jupyter-widgets/controls",
      "model_module_version": "1.5.0",
      "model_name": "ButtonStyleModel",
      "state": {}
     },
     "13d570ea8e3f40f7b941bef651c2255e": {
      "model_module": "@jupyter-widgets/controls",
      "model_module_version": "1.5.0",
      "model_name": "ButtonStyleModel",
      "state": {}
     },
     "16a70f81a8a9445e8722cc8dbda2c676": {
      "model_module": "@jupyter-widgets/controls",
      "model_module_version": "1.5.0",
      "model_name": "LabelModel",
      "state": {
       "layout": "IPY_MODEL_24405cbac84f45508dbb6530f892c128",
       "style": "IPY_MODEL_2aed59023a14417da90ba81313f9966f",
       "value": "Select your cannula!"
      }
     },
     "1d696c296b784c4286bd0e6b2f2df598": {
      "model_module": "@jupyter-widgets/base",
      "model_module_version": "1.2.0",
      "model_name": "LayoutModel",
      "state": {}
     },
     "1fb584fcbe074f5ca5115e9dfe524e7f": {
      "model_module": "@jupyter-widgets/controls",
      "model_module_version": "1.5.0",
      "model_name": "ButtonStyleModel",
      "state": {}
     },
     "24405cbac84f45508dbb6530f892c128": {
      "model_module": "@jupyter-widgets/base",
      "model_module_version": "1.2.0",
      "model_name": "LayoutModel",
      "state": {}
     },
     "246ba1fe28e04c95befde2bf268b2b6a": {
      "model_module": "@jupyter-widgets/controls",
      "model_module_version": "1.5.0",
      "model_name": "ButtonStyleModel",
      "state": {}
     },
     "27e750ce21cb46339f09d3ca2d4c51e8": {
      "model_module": "@jupyter-widgets/output",
      "model_module_version": "1.0.0",
      "model_name": "OutputModel",
      "state": {
       "layout": "IPY_MODEL_0471951913884f858e1b26847b5c9456",
       "outputs": [
        {
         "data": {
          "image/png": "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\n",
          "text/plain": "<PIL.Image.Image image mode=RGB size=128x96 at 0x7FF8D18CD320>"
         },
         "metadata": {},
         "output_type": "display_data"
        }
       ]
      }
     },
     "28c6282932964c9597fa819030c0bcb8": {
      "model_module": "@jupyter-widgets/controls",
      "model_module_version": "1.5.0",
      "model_name": "ButtonModel",
      "state": {
       "description": "Classify",
       "layout": "IPY_MODEL_a1813c5c69434138bb1b8c583c4d58e0",
       "style": "IPY_MODEL_7b3e8d1311b845e8b2ce3a44aeaac4c6"
      }
     },
     "2a8d996efb554d9492e3868e1e338cd1": {
      "model_module": "@jupyter-widgets/controls",
      "model_module_version": "1.5.0",
      "model_name": "FileUploadModel",
      "state": {
       "description_tooltip": null,
       "layout": "IPY_MODEL_900ea1e5582b4843a873704fb73b3fae",
       "style": "IPY_MODEL_929eb954e52541e3871a18f4cb616a31"
      }
     },
     "2aed59023a14417da90ba81313f9966f": {
      "model_module": "@jupyter-widgets/controls",
      "model_module_version": "1.5.0",
      "model_name": "DescriptionStyleModel",
      "state": {
       "description_width": ""
      }
     },
     "2afeb075193a46d2abd261a29e103573": {
      "model_module": "@jupyter-widgets/base",
      "model_module_version": "1.2.0",
      "model_name": "LayoutModel",
      "state": {}
     },
     "3216f69c63e94717b64ac0ca10ece754": {
      "model_module": "@jupyter-widgets/base",
      "model_module_version": "1.2.0",
      "model_name": "LayoutModel",
      "state": {}
     },
     "36f28989a32d47baaee5400caea0b494": {
      "model_module": "@jupyter-widgets/controls",
      "model_module_version": "1.5.0",
      "model_name": "VBoxModel",
      "state": {
       "children": [
        "IPY_MODEL_c30625afa4fe462f9f49501edf5ef503",
        "IPY_MODEL_898df47a331a456cb36fc428fd05e4a8",
        "IPY_MODEL_a515dfa0430f42389bb2c457c068d111",
        "IPY_MODEL_943c0f7169e443358d97d63bb3b00838"
       ],
       "layout": "IPY_MODEL_acf53c14411244ddb0255e7052555573"
      }
     },
     "3f9cba2c835c401096e793d2818d0233": {
      "model_module": "@jupyter-widgets/output",
      "model_module_version": "1.0.0",
      "model_name": "OutputModel",
      "state": {
       "layout": "IPY_MODEL_020ecdf9d6644ca58bdb020f1c68220e",
       "outputs": [
        {
         "data": {
          "image/png": "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\n",
          "text/plain": "<PIL.Image.Image image mode=RGB size=128x96 at 0x7FF8D1885EB8>"
         },
         "metadata": {},
         "output_type": "display_data"
        }
       ]
      }
     },
     "4113fb834ac540208f0a3335ec0b2b18": {
      "model_module": "@jupyter-widgets/controls",
      "model_module_version": "1.5.0",
      "model_name": "VBoxModel",
      "state": {
       "children": [
        "IPY_MODEL_567ce80fa15d4b7caeac35d879201a20",
        "IPY_MODEL_4b92fb25ff874a0a807fe7cabdc84f7d",
        "IPY_MODEL_3f9cba2c835c401096e793d2818d0233",
        "IPY_MODEL_befc5e19252445afad87470b79fa0c8a"
       ],
       "layout": "IPY_MODEL_5696209ed956487e9b7df3234821e7a7"
      }
     },
     "467cf917275c4f0f8f12091edde6ac60": {
      "model_module": "@jupyter-widgets/output",
      "model_module_version": "1.0.0",
      "model_name": "OutputModel",
      "state": {
       "layout": "IPY_MODEL_5bd1a3878e16496585bee2fb4b381ce7",
       "outputs": [
        {
         "data": {
          "image/png": "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\n",
          "text/plain": "<PIL.Image.Image image mode=RGB size=128x96 at 0x7FF8D1916C18>"
         },
         "metadata": {},
         "output_type": "display_data"
        }
       ]
      }
     },
     "46ad8a805b4f4034bf09fa7ff1ace305": {
      "model_module": "@jupyter-widgets/controls",
      "model_module_version": "1.5.0",
      "model_name": "ButtonStyleModel",
      "state": {}
     },
     "4acee54732b843c2bc7fc81fcbdd7d1c": {
      "model_module": "@jupyter-widgets/controls",
      "model_module_version": "1.5.0",
      "model_name": "ButtonStyleModel",
      "state": {}
     },
     "4b92fb25ff874a0a807fe7cabdc84f7d": {
      "buffers": [
       {
        "data": "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",
        "encoding": "base64",
        "path": [
         "data",
         0
        ]
       }
      ],
      "model_module": "@jupyter-widgets/controls",
      "model_module_version": "1.5.0",
      "model_name": "FileUploadModel",
      "state": {
       "_counter": 1,
       "data": [
        null
       ],
       "description_tooltip": null,
       "layout": "IPY_MODEL_7ef6acccaf8343b29834e66a550efd3d",
       "metadata": [
        {
         "lastModified": 1595934056000,
         "name": "kanuelenSpitzenAusrichtung1KameraAuswertungsBildOriginal.png",
         "size": 116939,
         "type": "image/png"
        }
       ],
       "style": "IPY_MODEL_1fb584fcbe074f5ca5115e9dfe524e7f"
      }
     },
     "4da9a04a89954ad4a61c727077a9d65d": {
      "model_module": "@jupyter-widgets/controls",
      "model_module_version": "1.5.0",
      "model_name": "DescriptionStyleModel",
      "state": {
       "description_width": ""
      }
     },
     "4fd8c6580dec449f97c943c9e6411d5d": {
      "model_module": "@jupyter-widgets/base",
      "model_module_version": "1.2.0",
      "model_name": "LayoutModel",
      "state": {}
     },
     "510e948151fb425ebc74f3acf7848bdf": {
      "model_module": "@jupyter-widgets/controls",
      "model_module_version": "1.5.0",
      "model_name": "LabelModel",
      "state": {
       "layout": "IPY_MODEL_d65aa0de8ba64fa681e47345ae360b06",
       "style": "IPY_MODEL_4da9a04a89954ad4a61c727077a9d65d",
       "value": "Select your cannula!"
      }
     },
     "5402fc052a324552919734e9b40d4ad2": {
      "model_module": "@jupyter-widgets/base",
      "model_module_version": "1.2.0",
      "model_name": "LayoutModel",
      "state": {}
     },
     "5503250d91d041b5916df56bc647624d": {
      "model_module": "@jupyter-widgets/controls",
      "model_module_version": "1.5.0",
      "model_name": "LabelModel",
      "state": {
       "layout": "IPY_MODEL_baa64b761c0f4d9d9ca8550bc96bcf60",
       "style": "IPY_MODEL_6008d4a75f9049a9abe5a9088315df27",
       "value": "Select your cannula!"
      }
     },
     "5526a943a6df4a3b9eba627373c9f5dc": {
      "model_module": "@jupyter-widgets/base",
      "model_module_version": "1.2.0",
      "model_name": "LayoutModel",
      "state": {}
     },
     "567ce80fa15d4b7caeac35d879201a20": {
      "model_module": "@jupyter-widgets/controls",
      "model_module_version": "1.5.0",
      "model_name": "LabelModel",
      "state": {
       "layout": "IPY_MODEL_b6a1636de1554c9aba986960bd26cd01",
       "style": "IPY_MODEL_5cda15df3a8c42cfb4c022736a3a9d4f",
       "value": "Select your cannula!"
      }
     },
     "5696209ed956487e9b7df3234821e7a7": {
      "model_module": "@jupyter-widgets/base",
      "model_module_version": "1.2.0",
      "model_name": "LayoutModel",
      "state": {}
     },
     "58434a5795bf43bb8aea82139e497ccd": {
      "model_module": "@jupyter-widgets/controls",
      "model_module_version": "1.5.0",
      "model_name": "DescriptionStyleModel",
      "state": {
       "description_width": ""
      }
     },
     "5bcb84b8ad1b4b50ae870dcb5313b824": {
      "model_module": "@jupyter-widgets/controls",
      "model_module_version": "1.5.0",
      "model_name": "LabelModel",
      "state": {
       "layout": "IPY_MODEL_ee3cf1dae72842bc83da5766cdc0c149",
       "style": "IPY_MODEL_bbb4305fa3d9424fbfe26fe29c523d8f",
       "value": "Prediction: without_cornerstone_embossing; Probability: 0.9731"
      }
     },
     "5bd1a3878e16496585bee2fb4b381ce7": {
      "model_module": "@jupyter-widgets/base",
      "model_module_version": "1.2.0",
      "model_name": "LayoutModel",
      "state": {}
     },
     "5cda15df3a8c42cfb4c022736a3a9d4f": {
      "model_module": "@jupyter-widgets/controls",
      "model_module_version": "1.5.0",
      "model_name": "DescriptionStyleModel",
      "state": {
       "description_width": ""
      }
     },
     "6008d4a75f9049a9abe5a9088315df27": {
      "model_module": "@jupyter-widgets/controls",
      "model_module_version": "1.5.0",
      "model_name": "DescriptionStyleModel",
      "state": {
       "description_width": ""
      }
     },
     "606ff3834f4945b8be97fb2814d266db": {
      "model_module": "@jupyter-widgets/controls",
      "model_module_version": "1.5.0",
      "model_name": "LabelModel",
      "state": {
       "layout": "IPY_MODEL_5526a943a6df4a3b9eba627373c9f5dc",
       "style": "IPY_MODEL_f3ec951899ce4ab895e1d91ca3173c05",
       "value": "Select your cannula!"
      }
     },
     "615a372b9ca24e819deaf6ddfb390d79": {
      "model_module": "@jupyter-widgets/controls",
      "model_module_version": "1.5.0",
      "model_name": "VBoxModel",
      "state": {
       "children": [
        "IPY_MODEL_70561cb86f9940c7bc7d24c14b6237c9",
        "IPY_MODEL_7ebdca3ccee3414fb11ecbcc66d7488b",
        "IPY_MODEL_e9e254ba160a4e0b99e99734d390e3d0",
        "IPY_MODEL_8c5bc972b29e459eb1a4c756fd717ce8"
       ],
       "layout": "IPY_MODEL_e9742ede0c58428cb72a7d026b9fbc20"
      }
     },
     "66fefee7e47b40d6b08aa1a27d0b3c60": {
      "model_module": "@jupyter-widgets/base",
      "model_module_version": "1.2.0",
      "model_name": "LayoutModel",
      "state": {}
     },
     "70561cb86f9940c7bc7d24c14b6237c9": {
      "model_module": "@jupyter-widgets/controls",
      "model_module_version": "1.5.0",
      "model_name": "LabelModel",
      "state": {
       "layout": "IPY_MODEL_7ffee7dd973045159ec6aa4061103f8d",
       "style": "IPY_MODEL_7d38fa4b241c4c8c8b3be505367391c3",
       "value": "Select your bear!"
      }
     },
     "79002e43b1b84eb5bc88deea7f5d76fc": {
      "model_module": "@jupyter-widgets/controls",
      "model_module_version": "1.5.0",
      "model_name": "ButtonModel",
      "state": {
       "description": "Classify",
       "layout": "IPY_MODEL_a5ecd79a37de4ba0bf83334e6026c102",
       "style": "IPY_MODEL_4acee54732b843c2bc7fc81fcbdd7d1c"
      }
     },
     "7922f3db16a94d5d8ee08477bba2f1fc": {
      "model_module": "@jupyter-widgets/controls",
      "model_module_version": "1.5.0",
      "model_name": "LabelModel",
      "state": {
       "layout": "IPY_MODEL_a25b17dce8f3425facca86770da4f245",
       "style": "IPY_MODEL_d7c3323cf126426eaf185e77ece8e5f7",
       "value": "Prediction: without_cornerstone_embossing; Probability: 0.9731"
      }
     },
     "7941836cc1274cfc9bc5b8ca435be7a4": {
      "model_module": "@jupyter-widgets/base",
      "model_module_version": "1.2.0",
      "model_name": "LayoutModel",
      "state": {}
     },
     "7b3e8d1311b845e8b2ce3a44aeaac4c6": {
      "model_module": "@jupyter-widgets/controls",
      "model_module_version": "1.5.0",
      "model_name": "ButtonStyleModel",
      "state": {}
     },
     "7d38fa4b241c4c8c8b3be505367391c3": {
      "model_module": "@jupyter-widgets/controls",
      "model_module_version": "1.5.0",
      "model_name": "DescriptionStyleModel",
      "state": {
       "description_width": ""
      }
     },
     "7e7aded544634fb097cef787bdffdde0": {
      "model_module": "@jupyter-widgets/base",
      "model_module_version": "1.2.0",
      "model_name": "LayoutModel",
      "state": {}
     },
     "7ebdca3ccee3414fb11ecbcc66d7488b": {
      "model_module": "@jupyter-widgets/controls",
      "model_module_version": "1.5.0",
      "model_name": "FileUploadModel",
      "state": {
       "description_tooltip": null,
       "layout": "IPY_MODEL_0f34df0093ac4a60b3de3920b101fa3f",
       "style": "IPY_MODEL_c22290e108a94795a33b3f111734663c"
      }
     },
     "7ef6acccaf8343b29834e66a550efd3d": {
      "model_module": "@jupyter-widgets/base",
      "model_module_version": "1.2.0",
      "model_name": "LayoutModel",
      "state": {}
     },
     "7ffee7dd973045159ec6aa4061103f8d": {
      "model_module": "@jupyter-widgets/base",
      "model_module_version": "1.2.0",
      "model_name": "LayoutModel",
      "state": {}
     },
     "8209433bed4e48148918ab46d0905c22": {
      "model_module": "@jupyter-widgets/base",
      "model_module_version": "1.2.0",
      "model_name": "LayoutModel",
      "state": {}
     },
     "898df47a331a456cb36fc428fd05e4a8": {
      "model_module": "@jupyter-widgets/controls",
      "model_module_version": "1.5.0",
      "model_name": "FileUploadModel",
      "state": {
       "description_tooltip": null,
       "layout": "IPY_MODEL_039b6c2b59f34ac98474b5f752a57a9d",
       "style": "IPY_MODEL_9a95148b67b84c27bdd6b555f610177e"
      }
     },
     "8a3f02426e4a4fc5a29c83272868a574": {
      "model_module": "@jupyter-widgets/controls",
      "model_module_version": "1.5.0",
      "model_name": "LabelModel",
      "state": {
       "layout": "IPY_MODEL_3216f69c63e94717b64ac0ca10ece754",
       "style": "IPY_MODEL_e4acd644693241a0b79d28fb49253da2",
       "value": "Prediction: without_cornerstone_embossing; Probability: 0.9731"
      }
     },
     "8a9065e68e954ea4b7a11f48d262ff84": {
      "model_module": "@jupyter-widgets/controls",
      "model_module_version": "1.5.0",
      "model_name": "ButtonStyleModel",
      "state": {}
     },
     "8c5bc972b29e459eb1a4c756fd717ce8": {
      "model_module": "@jupyter-widgets/controls",
      "model_module_version": "1.5.0",
      "model_name": "LabelModel",
      "state": {
       "layout": "IPY_MODEL_1d696c296b784c4286bd0e6b2f2df598",
       "style": "IPY_MODEL_fea99ac139fa497fbbaee1c81fe6ac90"
      }
     },
     "8c6994f3a5bc4b0bafef7ea98244fba6": {
      "model_module": "@jupyter-widgets/base",
      "model_module_version": "1.2.0",
      "model_name": "LayoutModel",
      "state": {}
     },
     "8dfe10b263e74712854cb26d3631c95a": {
      "model_module": "@jupyter-widgets/base",
      "model_module_version": "1.2.0",
      "model_name": "LayoutModel",
      "state": {}
     },
     "8e6604e63cbf47638789d8aef1fafec0": {
      "model_module": "@jupyter-widgets/output",
      "model_module_version": "1.0.0",
      "model_name": "OutputModel",
      "state": {
       "layout": "IPY_MODEL_8c6994f3a5bc4b0bafef7ea98244fba6",
       "outputs": [
        {
         "data": {
          "image/png": "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\n",
          "text/plain": "<PIL.Image.Image image mode=RGB size=128x96 at 0x7FF8D18ED5F8>"
         },
         "metadata": {},
         "output_type": "display_data"
        }
       ]
      }
     },
     "900ea1e5582b4843a873704fb73b3fae": {
      "model_module": "@jupyter-widgets/base",
      "model_module_version": "1.2.0",
      "model_name": "LayoutModel",
      "state": {}
     },
     "900f8abe39c247c8a1fcf338684fabfe": {
      "model_module": "@jupyter-widgets/controls",
      "model_module_version": "1.5.0",
      "model_name": "ButtonStyleModel",
      "state": {}
     },
     "929eb954e52541e3871a18f4cb616a31": {
      "model_module": "@jupyter-widgets/controls",
      "model_module_version": "1.5.0",
      "model_name": "ButtonStyleModel",
      "state": {}
     },
     "9397785f2c5b469bb0663513b482267b": {
      "model_module": "@jupyter-widgets/controls",
      "model_module_version": "1.5.0",
      "model_name": "ButtonModel",
      "state": {
       "description": "Classify",
       "layout": "IPY_MODEL_0cafd5a2a08146c8847ad4cdd6127f06",
       "style": "IPY_MODEL_0c99050925154f159be2ce999dbf51f2"
      }
     },
     "93cdc772ed3d41aa807ae5a4a4b7e6fd": {
      "model_module": "@jupyter-widgets/base",
      "model_module_version": "1.2.0",
      "model_name": "LayoutModel",
      "state": {}
     },
     "943c0f7169e443358d97d63bb3b00838": {
      "model_module": "@jupyter-widgets/controls",
      "model_module_version": "1.5.0",
      "model_name": "LabelModel",
      "state": {
       "layout": "IPY_MODEL_2afeb075193a46d2abd261a29e103573",
       "style": "IPY_MODEL_080d41d3751e4b05800830bad32dcb52"
      }
     },
     "9494fc47b1eb4656bc8586675c3635d7": {
      "model_module": "@jupyter-widgets/base",
      "model_module_version": "1.2.0",
      "model_name": "LayoutModel",
      "state": {}
     },
     "961bf3c0d1174aaaaed5b51dc7143b87": {
      "model_module": "@jupyter-widgets/controls",
      "model_module_version": "1.5.0",
      "model_name": "ButtonStyleModel",
      "state": {}
     },
     "9634bab833024116874dc00efe0356f2": {
      "model_module": "@jupyter-widgets/controls",
      "model_module_version": "1.5.0",
      "model_name": "FileUploadModel",
      "state": {
       "description_tooltip": null,
       "layout": "IPY_MODEL_8dfe10b263e74712854cb26d3631c95a",
       "style": "IPY_MODEL_12b90a7677c84173bc436ddd8a600fe9"
      }
     },
     "967081e5637b40b18393882c4a62f52f": {
      "model_module": "@jupyter-widgets/controls",
      "model_module_version": "1.5.0",
      "model_name": "FileUploadModel",
      "state": {
       "description_tooltip": null,
       "layout": "IPY_MODEL_5402fc052a324552919734e9b40d4ad2",
       "style": "IPY_MODEL_a63d70d5d6c54305b3bc0428ef13c090"
      }
     },
     "97686370630a4d1396a7d18897804ab1": {
      "model_module": "@jupyter-widgets/controls",
      "model_module_version": "1.5.0",
      "model_name": "DescriptionStyleModel",
      "state": {
       "description_width": ""
      }
     },
     "98762a12d1ca49d6b86f7f125e8c1c44": {
      "model_module": "@jupyter-widgets/controls",
      "model_module_version": "1.5.0",
      "model_name": "DescriptionStyleModel",
      "state": {
       "description_width": ""
      }
     },
     "9a95148b67b84c27bdd6b555f610177e": {
      "model_module": "@jupyter-widgets/controls",
      "model_module_version": "1.5.0",
      "model_name": "ButtonStyleModel",
      "state": {}
     },
     "a08c6a9da5a34dce82e7627892ce4112": {
      "model_module": "@jupyter-widgets/controls",
      "model_module_version": "1.5.0",
      "model_name": "FileUploadModel",
      "state": {
       "description_tooltip": null,
       "layout": "IPY_MODEL_08f234bf40524a98a403666c5f790492",
       "style": "IPY_MODEL_13d570ea8e3f40f7b941bef651c2255e"
      }
     },
     "a12e2fe0f9064e6d89f01d73f338bc16": {
      "model_module": "@jupyter-widgets/base",
      "model_module_version": "1.2.0",
      "model_name": "LayoutModel",
      "state": {}
     },
     "a14ffd2900a74f85b41610d115fe9a5d": {
      "model_module": "@jupyter-widgets/base",
      "model_module_version": "1.2.0",
      "model_name": "LayoutModel",
      "state": {}
     },
     "a1813c5c69434138bb1b8c583c4d58e0": {
      "model_module": "@jupyter-widgets/base",
      "model_module_version": "1.2.0",
      "model_name": "LayoutModel",
      "state": {}
     },
     "a25b17dce8f3425facca86770da4f245": {
      "model_module": "@jupyter-widgets/base",
      "model_module_version": "1.2.0",
      "model_name": "LayoutModel",
      "state": {}
     },
     "a420dc2d1b3e4a23be4efd6531760c09": {
      "model_module": "@jupyter-widgets/controls",
      "model_module_version": "1.5.0",
      "model_name": "LabelModel",
      "state": {
       "layout": "IPY_MODEL_f44c914be3d04c3087d10a3e2a8fe36d",
       "style": "IPY_MODEL_f476181fa19543939f5a0fa6cd7e2054",
       "value": "Select your cannula!"
      }
     },
     "a515dfa0430f42389bb2c457c068d111": {
      "model_module": "@jupyter-widgets/output",
      "model_module_version": "1.0.0",
      "model_name": "OutputModel",
      "state": {
       "layout": "IPY_MODEL_7e7aded544634fb097cef787bdffdde0"
      }
     },
     "a5ecd79a37de4ba0bf83334e6026c102": {
      "model_module": "@jupyter-widgets/base",
      "model_module_version": "1.2.0",
      "model_name": "LayoutModel",
      "state": {}
     },
     "a63d70d5d6c54305b3bc0428ef13c090": {
      "model_module": "@jupyter-widgets/controls",
      "model_module_version": "1.5.0",
      "model_name": "ButtonStyleModel",
      "state": {}
     },
     "ab36d122540641d5ae5a348e3919a9e3": {
      "model_module": "@jupyter-widgets/controls",
      "model_module_version": "1.5.0",
      "model_name": "VBoxModel",
      "state": {
       "children": [
        "IPY_MODEL_606ff3834f4945b8be97fb2814d266db",
        "IPY_MODEL_aefd2740ff49476b8aeec02f6eba5051",
        "IPY_MODEL_eb5490e5271a472facff3bca64dddd59",
        "IPY_MODEL_e67745dd078c4408a19d36467fc2c00e",
        "IPY_MODEL_5bcb84b8ad1b4b50ae870dcb5313b824"
       ],
       "layout": "IPY_MODEL_d10d235d5c7f4caca93cfcd2f6ce1e62"
      }
     },
     "acf53c14411244ddb0255e7052555573": {
      "model_module": "@jupyter-widgets/base",
      "model_module_version": "1.2.0",
      "model_name": "LayoutModel",
      "state": {}
     },
     "ad469cfeba904aa8843ac1d7df221484": {
      "model_module": "@jupyter-widgets/base",
      "model_module_version": "1.2.0",
      "model_name": "LayoutModel",
      "state": {}
     },
     "aefd2740ff49476b8aeec02f6eba5051": {
      "model_module": "@jupyter-widgets/controls",
      "model_module_version": "1.5.0",
      "model_name": "FileUploadModel",
      "state": {
       "description_tooltip": null,
       "layout": "IPY_MODEL_a12e2fe0f9064e6d89f01d73f338bc16",
       "style": "IPY_MODEL_8a9065e68e954ea4b7a11f48d262ff84"
      }
     },
     "b4cdc677d7d7458a8fd8ee0bf8337950": {
      "model_module": "@jupyter-widgets/controls",
      "model_module_version": "1.5.0",
      "model_name": "VBoxModel",
      "state": {
       "children": [
        "IPY_MODEL_a420dc2d1b3e4a23be4efd6531760c09",
        "IPY_MODEL_eee69221fe9a497c9e9124eeda911181",
        "IPY_MODEL_9397785f2c5b469bb0663513b482267b",
        "IPY_MODEL_ff58e9798d20451a803077819e05fff2",
        "IPY_MODEL_d7f82a4d44874b25aa9c2bf78a868fbc"
       ],
       "layout": "IPY_MODEL_f4648ba8aa5b4c0d9f37751281de80ea"
      }
     },
     "b50b3de3830d443b9b50ab444e743722": {
      "model_module": "@jupyter-widgets/controls",
      "model_module_version": "1.5.0",
      "model_name": "ButtonStyleModel",
      "state": {}
     },
     "b64875b83adb4d6b893ac221b04163b3": {
      "model_module": "@jupyter-widgets/base",
      "model_module_version": "1.2.0",
      "model_name": "LayoutModel",
      "state": {}
     },
     "b64fd5461b3e470e8e4614ec83c6b606": {
      "model_module": "@jupyter-widgets/controls",
      "model_module_version": "1.5.0",
      "model_name": "LabelModel",
      "state": {
       "layout": "IPY_MODEL_9494fc47b1eb4656bc8586675c3635d7",
       "style": "IPY_MODEL_97686370630a4d1396a7d18897804ab1",
       "value": "Prediction: without_cornerstone_embossing; Probability: 0.9731"
      }
     },
     "b6a1636de1554c9aba986960bd26cd01": {
      "model_module": "@jupyter-widgets/base",
      "model_module_version": "1.2.0",
      "model_name": "LayoutModel",
      "state": {}
     },
     "baa64b761c0f4d9d9ca8550bc96bcf60": {
      "model_module": "@jupyter-widgets/base",
      "model_module_version": "1.2.0",
      "model_name": "LayoutModel",
      "state": {}
     },
     "bbb4305fa3d9424fbfe26fe29c523d8f": {
      "model_module": "@jupyter-widgets/controls",
      "model_module_version": "1.5.0",
      "model_name": "DescriptionStyleModel",
      "state": {
       "description_width": ""
      }
     },
     "bdb33056d1ef4a8cbb6d1929cca7246d": {
      "model_module": "@jupyter-widgets/base",
      "model_module_version": "1.2.0",
      "model_name": "LayoutModel",
      "state": {}
     },
     "befc5e19252445afad87470b79fa0c8a": {
      "model_module": "@jupyter-widgets/controls",
      "model_module_version": "1.5.0",
      "model_name": "LabelModel",
      "state": {
       "layout": "IPY_MODEL_4fd8c6580dec449f97c943c9e6411d5d",
       "style": "IPY_MODEL_58434a5795bf43bb8aea82139e497ccd",
       "value": "Prediction: with_cornerstone_embossing; Probability: 0.8579"
      }
     },
     "c22290e108a94795a33b3f111734663c": {
      "model_module": "@jupyter-widgets/controls",
      "model_module_version": "1.5.0",
      "model_name": "ButtonStyleModel",
      "state": {}
     },
     "c30625afa4fe462f9f49501edf5ef503": {
      "model_module": "@jupyter-widgets/controls",
      "model_module_version": "1.5.0",
      "model_name": "LabelModel",
      "state": {
       "layout": "IPY_MODEL_c952064989874cc8a68e30984c9aa9cd",
       "style": "IPY_MODEL_98762a12d1ca49d6b86f7f125e8c1c44",
       "value": "Select your cannula!"
      }
     },
     "c952064989874cc8a68e30984c9aa9cd": {
      "model_module": "@jupyter-widgets/base",
      "model_module_version": "1.2.0",
      "model_name": "LayoutModel",
      "state": {}
     },
     "d10d235d5c7f4caca93cfcd2f6ce1e62": {
      "model_module": "@jupyter-widgets/base",
      "model_module_version": "1.2.0",
      "model_name": "LayoutModel",
      "state": {}
     },
     "d65aa0de8ba64fa681e47345ae360b06": {
      "model_module": "@jupyter-widgets/base",
      "model_module_version": "1.2.0",
      "model_name": "LayoutModel",
      "state": {}
     },
     "d7c3323cf126426eaf185e77ece8e5f7": {
      "model_module": "@jupyter-widgets/controls",
      "model_module_version": "1.5.0",
      "model_name": "DescriptionStyleModel",
      "state": {
       "description_width": ""
      }
     },
     "d7df2ac8ccb1457c91efab4c76add307": {
      "model_module": "@jupyter-widgets/controls",
      "model_module_version": "1.5.0",
      "model_name": "FileUploadModel",
      "state": {
       "description_tooltip": null,
       "layout": "IPY_MODEL_7941836cc1274cfc9bc5b8ca435be7a4",
       "style": "IPY_MODEL_961bf3c0d1174aaaaed5b51dc7143b87"
      }
     },
     "d7f82a4d44874b25aa9c2bf78a868fbc": {
      "model_module": "@jupyter-widgets/controls",
      "model_module_version": "1.5.0",
      "model_name": "LabelModel",
      "state": {
       "layout": "IPY_MODEL_ec8ed49a34a6418cb81df610c15a8b14",
       "style": "IPY_MODEL_0ce16db503434cdca87a2e73543d8fac",
       "value": "Prediction: without_cornerstone_embossing; Probability: 0.9731"
      }
     },
     "dbc63cdf64694a93ac22815d0bed3135": {
      "model_module": "@jupyter-widgets/controls",
      "model_module_version": "1.5.0",
      "model_name": "VBoxModel",
      "state": {
       "children": [
        "IPY_MODEL_510e948151fb425ebc74f3acf7848bdf",
        "IPY_MODEL_967081e5637b40b18393882c4a62f52f",
        "IPY_MODEL_79002e43b1b84eb5bc88deea7f5d76fc",
        "IPY_MODEL_27e750ce21cb46339f09d3ca2d4c51e8",
        "IPY_MODEL_7922f3db16a94d5d8ee08477bba2f1fc"
       ],
       "layout": "IPY_MODEL_ffcf237dedfb40799a0979799e69b1c6"
      }
     },
     "e4acd644693241a0b79d28fb49253da2": {
      "model_module": "@jupyter-widgets/controls",
      "model_module_version": "1.5.0",
      "model_name": "DescriptionStyleModel",
      "state": {
       "description_width": ""
      }
     },
     "e67745dd078c4408a19d36467fc2c00e": {
      "model_module": "@jupyter-widgets/output",
      "model_module_version": "1.0.0",
      "model_name": "OutputModel",
      "state": {
       "layout": "IPY_MODEL_93cdc772ed3d41aa807ae5a4a4b7e6fd",
       "outputs": [
        {
         "data": {
          "image/png": "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\n",
          "text/plain": "<PIL.Image.Image image mode=RGB size=128x96 at 0x7FF8D1953588>"
         },
         "metadata": {},
         "output_type": "display_data"
        }
       ]
      }
     },
     "e9742ede0c58428cb72a7d026b9fbc20": {
      "model_module": "@jupyter-widgets/base",
      "model_module_version": "1.2.0",
      "model_name": "LayoutModel",
      "state": {}
     },
     "e9e254ba160a4e0b99e99734d390e3d0": {
      "model_module": "@jupyter-widgets/output",
      "model_module_version": "1.0.0",
      "model_name": "OutputModel",
      "state": {
       "layout": "IPY_MODEL_b64875b83adb4d6b893ac221b04163b3"
      }
     },
     "eb5490e5271a472facff3bca64dddd59": {
      "model_module": "@jupyter-widgets/controls",
      "model_module_version": "1.5.0",
      "model_name": "ButtonModel",
      "state": {
       "description": "Classify",
       "layout": "IPY_MODEL_66fefee7e47b40d6b08aa1a27d0b3c60",
       "style": "IPY_MODEL_900f8abe39c247c8a1fcf338684fabfe"
      }
     },
     "ec8ed49a34a6418cb81df610c15a8b14": {
      "model_module": "@jupyter-widgets/base",
      "model_module_version": "1.2.0",
      "model_name": "LayoutModel",
      "state": {}
     },
     "ee3cf1dae72842bc83da5766cdc0c149": {
      "model_module": "@jupyter-widgets/base",
      "model_module_version": "1.2.0",
      "model_name": "LayoutModel",
      "state": {}
     },
     "eee69221fe9a497c9e9124eeda911181": {
      "model_module": "@jupyter-widgets/controls",
      "model_module_version": "1.5.0",
      "model_name": "FileUploadModel",
      "state": {
       "description_tooltip": null,
       "layout": "IPY_MODEL_a14ffd2900a74f85b41610d115fe9a5d",
       "style": "IPY_MODEL_46ad8a805b4f4034bf09fa7ff1ace305"
      }
     },
     "effe33d413e84548bad30d36cda39d0c": {
      "model_module": "@jupyter-widgets/base",
      "model_module_version": "1.2.0",
      "model_name": "LayoutModel",
      "state": {}
     },
     "f1302cf4e2e04354ba9d3071af87d5e7": {
      "model_module": "@jupyter-widgets/controls",
      "model_module_version": "1.5.0",
      "model_name": "VBoxModel",
      "state": {
       "children": [
        "IPY_MODEL_5503250d91d041b5916df56bc647624d",
        "IPY_MODEL_7ebdca3ccee3414fb11ecbcc66d7488b",
        "IPY_MODEL_e9e254ba160a4e0b99e99734d390e3d0",
        "IPY_MODEL_8c5bc972b29e459eb1a4c756fd717ce8"
       ],
       "layout": "IPY_MODEL_ff34cdd6f0c04ef6a35be99f3ee8eccc"
      }
     },
     "f3ec951899ce4ab895e1d91ca3173c05": {
      "model_module": "@jupyter-widgets/controls",
      "model_module_version": "1.5.0",
      "model_name": "DescriptionStyleModel",
      "state": {
       "description_width": ""
      }
     },
     "f44c914be3d04c3087d10a3e2a8fe36d": {
      "model_module": "@jupyter-widgets/base",
      "model_module_version": "1.2.0",
      "model_name": "LayoutModel",
      "state": {}
     },
     "f4648ba8aa5b4c0d9f37751281de80ea": {
      "model_module": "@jupyter-widgets/base",
      "model_module_version": "1.2.0",
      "model_name": "LayoutModel",
      "state": {}
     },
     "f476181fa19543939f5a0fa6cd7e2054": {
      "model_module": "@jupyter-widgets/controls",
      "model_module_version": "1.5.0",
      "model_name": "DescriptionStyleModel",
      "state": {
       "description_width": ""
      }
     },
     "fea99ac139fa497fbbaee1c81fe6ac90": {
      "model_module": "@jupyter-widgets/controls",
      "model_module_version": "1.5.0",
      "model_name": "DescriptionStyleModel",
      "state": {
       "description_width": ""
      }
     },
     "ff34cdd6f0c04ef6a35be99f3ee8eccc": {
      "model_module": "@jupyter-widgets/base",
      "model_module_version": "1.2.0",
      "model_name": "LayoutModel",
      "state": {}
     },
     "ff58e9798d20451a803077819e05fff2": {
      "model_module": "@jupyter-widgets/output",
      "model_module_version": "1.0.0",
      "model_name": "OutputModel",
      "state": {
       "layout": "IPY_MODEL_8209433bed4e48148918ab46d0905c22",
       "outputs": [
        {
         "data": {
          "image/png": "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\n",
          "text/plain": "<PIL.Image.Image image mode=RGB size=128x96 at 0x7FF8D18E08D0>"
         },
         "metadata": {},
         "output_type": "display_data"
        }
       ]
      }
     },
     "ffcf237dedfb40799a0979799e69b1c6": {
      "model_module": "@jupyter-widgets/base",
      "model_module_version": "1.2.0",
      "model_name": "LayoutModel",
      "state": {}
     }
    },
    "version_major": 2,
    "version_minor": 0
   }
  }
 },
 "nbformat": 4,
 "nbformat_minor": 4
}
